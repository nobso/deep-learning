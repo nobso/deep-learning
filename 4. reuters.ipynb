{
 "cells": [
  {
   "cell_type": "markdown",
   "metadata": {},
   "source": [
    "### Loading the required libs"
   ]
  },
  {
   "cell_type": "code",
   "execution_count": 16,
   "metadata": {},
   "outputs": [],
   "source": [
    "from keras.datasets import reuters\n",
    "import numpy as np"
   ]
  },
  {
   "cell_type": "markdown",
   "metadata": {},
   "source": [
    "### Loading the Reuters dataset"
   ]
  },
  {
   "cell_type": "code",
   "execution_count": 3,
   "metadata": {},
   "outputs": [
    {
     "name": "stdout",
     "output_type": "stream",
     "text": [
      "Downloading data from https://s3.amazonaws.com/text-datasets/reuters.npz\n",
      "2113536/2110848 [==============================] - 1s 1us/step\n"
     ]
    }
   ],
   "source": [
    "(train_data, train_labels), (test_data, test_labels) = reuters.load_data(num_words=10000)"
   ]
  },
  {
   "cell_type": "code",
   "execution_count": 4,
   "metadata": {},
   "outputs": [
    {
     "data": {
      "text/plain": [
       "8982"
      ]
     },
     "execution_count": 4,
     "metadata": {},
     "output_type": "execute_result"
    }
   ],
   "source": [
    "len(train_data)"
   ]
  },
  {
   "cell_type": "code",
   "execution_count": 5,
   "metadata": {},
   "outputs": [
    {
     "data": {
      "text/plain": [
       "2246"
      ]
     },
     "execution_count": 5,
     "metadata": {},
     "output_type": "execute_result"
    }
   ],
   "source": [
    "len(test_data)"
   ]
  },
  {
   "cell_type": "code",
   "execution_count": 6,
   "metadata": {},
   "outputs": [
    {
     "data": {
      "text/plain": [
       "[1,\n",
       " 2,\n",
       " 2,\n",
       " 8,\n",
       " 43,\n",
       " 10,\n",
       " 447,\n",
       " 5,\n",
       " 25,\n",
       " 207,\n",
       " 270,\n",
       " 5,\n",
       " 3095,\n",
       " 111,\n",
       " 16,\n",
       " 369,\n",
       " 186,\n",
       " 90,\n",
       " 67,\n",
       " 7,\n",
       " 89,\n",
       " 5,\n",
       " 19,\n",
       " 102,\n",
       " 6,\n",
       " 19,\n",
       " 124,\n",
       " 15,\n",
       " 90,\n",
       " 67,\n",
       " 84,\n",
       " 22,\n",
       " 482,\n",
       " 26,\n",
       " 7,\n",
       " 48,\n",
       " 4,\n",
       " 49,\n",
       " 8,\n",
       " 864,\n",
       " 39,\n",
       " 209,\n",
       " 154,\n",
       " 6,\n",
       " 151,\n",
       " 6,\n",
       " 83,\n",
       " 11,\n",
       " 15,\n",
       " 22,\n",
       " 155,\n",
       " 11,\n",
       " 15,\n",
       " 7,\n",
       " 48,\n",
       " 9,\n",
       " 4579,\n",
       " 1005,\n",
       " 504,\n",
       " 6,\n",
       " 258,\n",
       " 6,\n",
       " 272,\n",
       " 11,\n",
       " 15,\n",
       " 22,\n",
       " 134,\n",
       " 44,\n",
       " 11,\n",
       " 15,\n",
       " 16,\n",
       " 8,\n",
       " 197,\n",
       " 1245,\n",
       " 90,\n",
       " 67,\n",
       " 52,\n",
       " 29,\n",
       " 209,\n",
       " 30,\n",
       " 32,\n",
       " 132,\n",
       " 6,\n",
       " 109,\n",
       " 15,\n",
       " 17,\n",
       " 12]"
      ]
     },
     "execution_count": 6,
     "metadata": {},
     "output_type": "execute_result"
    }
   ],
   "source": [
    "train_data[0]"
   ]
  },
  {
   "cell_type": "markdown",
   "metadata": {},
   "source": [
    "### Decoding newswires back to text"
   ]
  },
  {
   "cell_type": "code",
   "execution_count": 7,
   "metadata": {},
   "outputs": [
    {
     "name": "stdout",
     "output_type": "stream",
     "text": [
      "Downloading data from https://s3.amazonaws.com/text-datasets/reuters_word_index.json\n",
      "557056/550378 [==============================] - 1s 1us/step\n"
     ]
    }
   ],
   "source": [
    "word_index = reuters.get_word_index()"
   ]
  },
  {
   "cell_type": "code",
   "execution_count": 61,
   "metadata": {},
   "outputs": [],
   "source": [
    "reverse_word_index = dict([(value, key) for (key, value) in word_index.items()])\n",
    "decoded_newswire = ' '.join([reverse_word_index.get(i - 3, '?') for i in train_data[5]])"
   ]
  },
  {
   "cell_type": "code",
   "execution_count": 62,
   "metadata": {},
   "outputs": [
    {
     "data": {
      "text/plain": [
       "\"? the u s agriculture department estimated canada's 1986 87 wheat crop at 31 85 mln tonnes vs 31 85 mln tonnes last month it estimated 1985 86 output at 24 25 mln tonnes vs 24 25 mln last month canadian 1986 87 coarse grain production is projected at 27 62 mln tonnes vs 27 62 mln tonnes last month production in 1985 86 is estimated at 24 95 mln tonnes vs 24 95 mln last month canadian wheat exports in 1986 87 are forecast at 19 00 mln tonnes vs 18 00 mln tonnes last month exports in 1985 86 are estimated at 17 71 mln tonnes vs 17 72 mln last month reuter 3\""
      ]
     },
     "execution_count": 62,
     "metadata": {},
     "output_type": "execute_result"
    }
   ],
   "source": [
    "decoded_newswire"
   ]
  },
  {
   "cell_type": "code",
   "execution_count": 64,
   "metadata": {},
   "outputs": [
    {
     "data": {
      "text/plain": [
       "4"
      ]
     },
     "execution_count": 64,
     "metadata": {},
     "output_type": "execute_result"
    }
   ],
   "source": [
    "train_labels[5]"
   ]
  },
  {
   "cell_type": "markdown",
   "metadata": {},
   "source": [
    "## Preparing the data"
   ]
  },
  {
   "cell_type": "markdown",
   "metadata": {},
   "source": [
    "### Encoding the data"
   ]
  },
  {
   "cell_type": "code",
   "execution_count": 14,
   "metadata": {},
   "outputs": [],
   "source": [
    "def vectorize_sequences(sequences, dimension=10000):\n",
    "    results = np.zeros((len(sequences), dimension))\n",
    "    for i, sequence in enumerate(sequences):\n",
    "        results[i, sequence] = 1\n",
    "    return results"
   ]
  },
  {
   "cell_type": "code",
   "execution_count": 17,
   "metadata": {},
   "outputs": [],
   "source": [
    "x_train = vectorize_sequences(train_data)\n",
    "x_test = vectorize_sequences(test_data)"
   ]
  },
  {
   "cell_type": "code",
   "execution_count": 27,
   "metadata": {},
   "outputs": [],
   "source": [
    "# def to_one_hot(labels, dimension=46):\n",
    "#     results = np.zeros((len(labels), dimension))\n",
    "#     for i, label in enumerate(labels):\n",
    "#         results[i, label] = 1.\n",
    "#     return results"
   ]
  },
  {
   "cell_type": "code",
   "execution_count": 29,
   "metadata": {},
   "outputs": [],
   "source": [
    "# one_hot_train_labels = to_one_hot(train_labels)\n",
    "# one_hot_test_labels = to_one_hot(test_labels)"
   ]
  },
  {
   "cell_type": "code",
   "execution_count": 33,
   "metadata": {},
   "outputs": [],
   "source": [
    "## built-in way of doing the one-hot encoding\n",
    "from keras.utils.np_utils import to_categorical\n",
    "one_hot_train_labels = to_categorical(train_labels)\n",
    "one_hot_test_labels = to_categorical(test_labels)"
   ]
  },
  {
   "cell_type": "code",
   "execution_count": 34,
   "metadata": {},
   "outputs": [
    {
     "data": {
      "text/plain": [
       "array([0., 0., 0., 1., 0., 0., 0., 0., 0., 0., 0., 0., 0., 0., 0., 0., 0.,\n",
       "       0., 0., 0., 0., 0., 0., 0., 0., 0., 0., 0., 0., 0., 0., 0., 0., 0.,\n",
       "       0., 0., 0., 0., 0., 0., 0., 0., 0., 0., 0., 0.], dtype=float32)"
      ]
     },
     "execution_count": 34,
     "metadata": {},
     "output_type": "execute_result"
    }
   ],
   "source": [
    "one_hot_train_labels[0]"
   ]
  },
  {
   "cell_type": "markdown",
   "metadata": {},
   "source": [
    "### Model definition"
   ]
  },
  {
   "cell_type": "code",
   "execution_count": 36,
   "metadata": {},
   "outputs": [],
   "source": [
    "from keras import models\n",
    "from keras import layers\n",
    "\n",
    "model = models.Sequential()\n",
    "model.add(layers.Dense(64, activation='relu', input_shape=(10000,)))\n",
    "model.add(layers.Dense(64, activation='relu'))\n",
    "model.add(layers.Dense(46, activation='softmax'))"
   ]
  },
  {
   "cell_type": "markdown",
   "metadata": {},
   "source": [
    "### Compiling the model"
   ]
  },
  {
   "cell_type": "code",
   "execution_count": 37,
   "metadata": {},
   "outputs": [],
   "source": [
    "model.compile(optimizer='rmsprop', loss='categorical_crossentropy', metrics=['accuracy'])"
   ]
  },
  {
   "cell_type": "markdown",
   "metadata": {},
   "source": [
    "### Validation dataset"
   ]
  },
  {
   "cell_type": "code",
   "execution_count": 41,
   "metadata": {},
   "outputs": [],
   "source": [
    "x_val = x_train[:1000]\n",
    "partial_x_train = x_train[1000:]\n",
    "\n",
    "y_val = one_hot_train_labels[:1000]\n",
    "partial_y_train = one_hot_train_labels[1000:]"
   ]
  },
  {
   "cell_type": "markdown",
   "metadata": {},
   "source": [
    "### Training the model"
   ]
  },
  {
   "cell_type": "code",
   "execution_count": 42,
   "metadata": {},
   "outputs": [
    {
     "name": "stdout",
     "output_type": "stream",
     "text": [
      "Train on 7982 samples, validate on 1000 samples\n",
      "Epoch 1/20\n",
      "7982/7982 [==============================] - 1s 153us/step - loss: 2.4912 - acc: 0.4934 - val_loss: 1.6736 - val_acc: 0.6480\n",
      "Epoch 2/20\n",
      "7982/7982 [==============================] - 1s 72us/step - loss: 1.3836 - acc: 0.7061 - val_loss: 1.2747 - val_acc: 0.7200\n",
      "Epoch 3/20\n",
      "7982/7982 [==============================] - 1s 70us/step - loss: 1.0431 - acc: 0.7722 - val_loss: 1.1158 - val_acc: 0.7650\n",
      "Epoch 4/20\n",
      "7982/7982 [==============================] - 1s 72us/step - loss: 0.8208 - acc: 0.8290 - val_loss: 1.0223 - val_acc: 0.7730\n",
      "Epoch 5/20\n",
      "7982/7982 [==============================] - 1s 73us/step - loss: 0.6574 - acc: 0.8641 - val_loss: 0.9707 - val_acc: 0.7940\n",
      "Epoch 6/20\n",
      "7982/7982 [==============================] - 1s 72us/step - loss: 0.5236 - acc: 0.8934 - val_loss: 0.9209 - val_acc: 0.8100\n",
      "Epoch 7/20\n",
      "7982/7982 [==============================] - 1s 75us/step - loss: 0.4278 - acc: 0.9116 - val_loss: 0.9145 - val_acc: 0.8020\n",
      "Epoch 8/20\n",
      "7982/7982 [==============================] - 1s 70us/step - loss: 0.3489 - acc: 0.9278 - val_loss: 0.8952 - val_acc: 0.8140\n",
      "Epoch 9/20\n",
      "7982/7982 [==============================] - 1s 69us/step - loss: 0.2888 - acc: 0.9379 - val_loss: 0.9167 - val_acc: 0.8050\n",
      "Epoch 10/20\n",
      "7982/7982 [==============================] - 1s 71us/step - loss: 0.2447 - acc: 0.9455 - val_loss: 0.9139 - val_acc: 0.8110\n",
      "Epoch 11/20\n",
      "7982/7982 [==============================] - 1s 74us/step - loss: 0.2102 - acc: 0.9484 - val_loss: 0.9528 - val_acc: 0.8150\n",
      "Epoch 12/20\n",
      "7982/7982 [==============================] - 1s 71us/step - loss: 0.1882 - acc: 0.9525 - val_loss: 0.9609 - val_acc: 0.8020\n",
      "Epoch 13/20\n",
      "7982/7982 [==============================] - 1s 70us/step - loss: 0.1657 - acc: 0.9526 - val_loss: 0.9965 - val_acc: 0.7970\n",
      "Epoch 14/20\n",
      "7982/7982 [==============================] - 1s 70us/step - loss: 0.1538 - acc: 0.9544 - val_loss: 0.9769 - val_acc: 0.8060\n",
      "Epoch 15/20\n",
      "7982/7982 [==============================] - 1s 72us/step - loss: 0.1460 - acc: 0.9551 - val_loss: 1.0207 - val_acc: 0.7970\n",
      "Epoch 16/20\n",
      "7982/7982 [==============================] - 1s 70us/step - loss: 0.1336 - acc: 0.9560 - val_loss: 1.0413 - val_acc: 0.8010\n",
      "Epoch 17/20\n",
      "7982/7982 [==============================] - 1s 70us/step - loss: 0.1263 - acc: 0.9558 - val_loss: 1.0417 - val_acc: 0.7960\n",
      "Epoch 18/20\n",
      "7982/7982 [==============================] - 1s 71us/step - loss: 0.1177 - acc: 0.9559 - val_loss: 1.0373 - val_acc: 0.8140\n",
      "Epoch 19/20\n",
      "7982/7982 [==============================] - 1s 72us/step - loss: 0.1169 - acc: 0.9572 - val_loss: 1.0299 - val_acc: 0.8060\n",
      "Epoch 20/20\n",
      "7982/7982 [==============================] - 1s 70us/step - loss: 0.1143 - acc: 0.9575 - val_loss: 1.0486 - val_acc: 0.8030\n"
     ]
    }
   ],
   "source": [
    "history = model.fit(partial_x_train, partial_y_train, epochs=20, batch_size=512, validation_data=(x_val, y_val))"
   ]
  },
  {
   "cell_type": "markdown",
   "metadata": {},
   "source": [
    "### Plotting the training and validation loss"
   ]
  },
  {
   "cell_type": "code",
   "execution_count": 44,
   "metadata": {},
   "outputs": [
    {
     "data": {
      "image/png": "[encoded data removed]",
      "text/plain": [
       "<Figure size 432x288 with 1 Axes>"
      ]
     },
     "metadata": {},
     "output_type": "display_data"
    }
   ],
   "source": [
    "import matplotlib.pyplot as plt\n",
    "loss = history.history['loss']\n",
    "val_loss = history.history['val_loss']\n",
    "epochs = range(1, len(loss) + 1)\n",
    "\n",
    "plt.plot(epochs, loss, 'bo', label='Training loss')\n",
    "plt.plot(epochs, val_loss, 'b', label='Validation loss')\n",
    "plt.title('Training and validation loss')\n",
    "plt.xlabel('Epochs')\n",
    "plt.ylabel('Loss')\n",
    "plt.legend()\n",
    "plt.show()"
   ]
  },
  {
   "cell_type": "markdown",
   "metadata": {},
   "source": [
    "### Plotting the training and validation accuracy"
   ]
  },
  {
   "cell_type": "code",
   "execution_count": 47,
   "metadata": {},
   "outputs": [
    {
     "data": {
      "image/png": "[encoded data removed]",
      "text/plain": [
       "<Figure size 432x288 with 1 Axes>"
      ]
     },
     "metadata": {},
     "output_type": "display_data"
    }
   ],
   "source": [
    "plt.clf()\n",
    "\n",
    "acc = history.history['acc']\n",
    "val_acc = history.history['val_acc']\n",
    "plt.plot(epochs, acc, 'bo', label='Training acc')\n",
    "plt.plot(epochs, val_acc, 'b', label='Validation acc')\n",
    "plt.title('Training and validation accuracy')\n",
    "plt.xlabel('Epochs')\n",
    "plt.ylabel('Accuracy')\n",
    "plt.legend()\n",
    "plt.show()"
   ]
  },
  {
   "cell_type": "markdown",
   "metadata": {},
   "source": [
    "### Retraining a model from scratch"
   ]
  },
  {
   "cell_type": "code",
   "execution_count": 48,
   "metadata": {},
   "outputs": [
    {
     "name": "stdout",
     "output_type": "stream",
     "text": [
      "Train on 7982 samples, validate on 1000 samples\n",
      "Epoch 1/9\n",
      "7982/7982 [==============================] - 1s 137us/step - loss: 2.5391 - acc: 0.5220 - val_loss: 1.6786 - val_acc: 0.6510\n",
      "Epoch 2/9\n",
      "7982/7982 [==============================] - 1s 70us/step - loss: 1.3728 - acc: 0.7129 - val_loss: 1.2785 - val_acc: 0.7180\n",
      "Epoch 3/9\n",
      "7982/7982 [==============================] - 1s 71us/step - loss: 1.0163 - acc: 0.7798 - val_loss: 1.1322 - val_acc: 0.7510\n",
      "Epoch 4/9\n",
      "7982/7982 [==============================] - 1s 70us/step - loss: 0.8012 - acc: 0.8239 - val_loss: 1.0540 - val_acc: 0.7610\n",
      "Epoch 5/9\n",
      "7982/7982 [==============================] - 1s 70us/step - loss: 0.6436 - acc: 0.8608 - val_loss: 0.9752 - val_acc: 0.7940\n",
      "Epoch 6/9\n",
      "7982/7982 [==============================] - 1s 70us/step - loss: 0.5158 - acc: 0.8919 - val_loss: 0.9092 - val_acc: 0.8140\n",
      "Epoch 7/9\n",
      "7982/7982 [==============================] - 1s 70us/step - loss: 0.4151 - acc: 0.9136 - val_loss: 0.8933 - val_acc: 0.8200\n",
      "Epoch 8/9\n",
      "7982/7982 [==============================] - 1s 70us/step - loss: 0.3374 - acc: 0.9281 - val_loss: 0.8714 - val_acc: 0.8260\n",
      "Epoch 9/9\n",
      "7982/7982 [==============================] - 1s 71us/step - loss: 0.2797 - acc: 0.9365 - val_loss: 0.9335 - val_acc: 0.8040\n"
     ]
    },
    {
     "data": {
      "text/plain": [
       "<keras.callbacks.History at 0x7fa712d25550>"
      ]
     },
     "execution_count": 48,
     "metadata": {},
     "output_type": "execute_result"
    }
   ],
   "source": [
    "model = models.Sequential()\n",
    "model.add(layers.Dense(64, activation='relu', input_shape=(10000,)))\n",
    "model.add(layers.Dense(64, activation='relu'))\n",
    "model.add(layers.Dense(46, activation='softmax'))\n",
    "model.compile(optimizer='rmsprop', loss='categorical_crossentropy', metrics=['accuracy'])\n",
    "model.fit(partial_x_train, partial_y_train, epochs=9, batch_size=512, validation_data=(x_val, y_val))\n"
   ]
  },
  {
   "cell_type": "code",
   "execution_count": 49,
   "metadata": {},
   "outputs": [
    {
     "name": "stdout",
     "output_type": "stream",
     "text": [
      "2246/2246 [==============================] - 0s 84us/step\n"
     ]
    }
   ],
   "source": [
    "results = model.evaluate(x_test, one_hot_test_labels)"
   ]
  },
  {
   "cell_type": "code",
   "execution_count": 50,
   "metadata": {},
   "outputs": [
    {
     "data": {
      "text/plain": [
       "[1.0219353712358754, 0.7764915405695499]"
      ]
     },
     "execution_count": 50,
     "metadata": {},
     "output_type": "execute_result"
    }
   ],
   "source": [
    "results"
   ]
  },
  {
   "cell_type": "markdown",
   "metadata": {},
   "source": [
    "### Generating predictions on new data"
   ]
  },
  {
   "cell_type": "code",
   "execution_count": 51,
   "metadata": {},
   "outputs": [],
   "source": [
    "predictions = model.predict(x_test)"
   ]
  },
  {
   "cell_type": "code",
   "execution_count": 53,
   "metadata": {},
   "outputs": [
    {
     "data": {
      "text/plain": [
       "array([1.14070117e-05, 8.90730153e-05, 1.81336836e-05, 9.74340141e-01,\n",
       "       1.48936892e-02, 9.14796701e-08, 8.76145714e-05, 2.97050956e-05,\n",
       "       3.49971349e-03, 1.98216185e-06, 3.01252403e-05, 1.21913082e-03,\n",
       "       5.11213148e-05, 2.77526706e-05, 4.02501928e-06, 1.34353231e-05,\n",
       "       7.91055965e-04, 1.56160517e-04, 2.43918475e-04, 1.11777370e-03,\n",
       "       7.76823843e-04, 5.30073536e-04, 5.83578458e-06, 5.32443628e-05,\n",
       "       1.12457237e-05, 2.75740807e-04, 1.87825071e-06, 2.19409831e-05,\n",
       "       5.88197054e-06, 1.11582245e-04, 3.08908144e-04, 1.75709836e-04,\n",
       "       1.04490300e-05, 3.95518546e-05, 3.79432095e-05, 1.94826371e-05,\n",
       "       1.31235749e-04, 5.38080640e-05, 8.12125800e-05, 2.31092243e-04,\n",
       "       3.01063974e-05, 4.08803986e-04, 1.51394647e-06, 3.23372369e-05,\n",
       "       6.21841991e-06, 1.08839404e-05], dtype=float32)"
      ]
     },
     "execution_count": 53,
     "metadata": {},
     "output_type": "execute_result"
    }
   ],
   "source": [
    "predictions[0]"
   ]
  },
  {
   "cell_type": "code",
   "execution_count": 54,
   "metadata": {},
   "outputs": [
    {
     "data": {
      "text/plain": [
       "0.9999996"
      ]
     },
     "execution_count": 54,
     "metadata": {},
     "output_type": "execute_result"
    }
   ],
   "source": [
    "np.sum(predictions[0])"
   ]
  },
  {
   "cell_type": "code",
   "execution_count": 57,
   "metadata": {},
   "outputs": [
    {
     "data": {
      "text/plain": [
       "3"
      ]
     },
     "execution_count": 57,
     "metadata": {},
     "output_type": "execute_result"
    }
   ],
   "source": [
    "test_labels[0]"
   ]
  },
  {
   "cell_type": "code",
   "execution_count": 55,
   "metadata": {},
   "outputs": [
    {
     "data": {
      "text/plain": [
       "3"
      ]
     },
     "execution_count": 55,
     "metadata": {},
     "output_type": "execute_result"
    }
   ],
   "source": [
    "np.argmax(predictions[0])"
   ]
  },
  {
   "cell_type": "markdown",
   "metadata": {},
   "source": [
    "### A model with an information bottleneck"
   ]
  },
  {
   "cell_type": "code",
   "execution_count": 56,
   "metadata": {},
   "outputs": [
    {
     "name": "stdout",
     "output_type": "stream",
     "text": [
      "Train on 7982 samples, validate on 1000 samples\n",
      "Epoch 1/20\n",
      "7982/7982 [==============================] - 1s 135us/step - loss: 3.1595 - acc: 0.2409 - val_loss: 2.6002 - val_acc: 0.2830\n",
      "Epoch 2/20\n",
      "7982/7982 [==============================] - 1s 79us/step - loss: 2.0465 - acc: 0.5496 - val_loss: 1.6999 - val_acc: 0.5860\n",
      "Epoch 3/20\n",
      "7982/7982 [==============================] - 1s 80us/step - loss: 1.5013 - acc: 0.6240 - val_loss: 1.5106 - val_acc: 0.6430\n",
      "Epoch 4/20\n",
      "7982/7982 [==============================] - 1s 77us/step - loss: 1.2892 - acc: 0.6926 - val_loss: 1.4148 - val_acc: 0.6730\n",
      "Epoch 5/20\n",
      "7982/7982 [==============================] - 1s 78us/step - loss: 1.1455 - acc: 0.7155 - val_loss: 1.3635 - val_acc: 0.6850\n",
      "Epoch 6/20\n",
      "7982/7982 [==============================] - 1s 78us/step - loss: 1.0391 - acc: 0.7313 - val_loss: 1.3417 - val_acc: 0.6990\n",
      "Epoch 7/20\n",
      "7982/7982 [==============================] - 1s 78us/step - loss: 0.9562 - acc: 0.7439 - val_loss: 1.3392 - val_acc: 0.7020\n",
      "Epoch 8/20\n",
      "7982/7982 [==============================] - 1s 76us/step - loss: 0.8868 - acc: 0.7534 - val_loss: 1.3334 - val_acc: 0.7030\n",
      "Epoch 9/20\n",
      "7982/7982 [==============================] - 1s 78us/step - loss: 0.8237 - acc: 0.7697 - val_loss: 1.3575 - val_acc: 0.7120\n",
      "Epoch 10/20\n",
      "7982/7982 [==============================] - 1s 77us/step - loss: 0.7651 - acc: 0.7898 - val_loss: 1.3719 - val_acc: 0.7120\n",
      "Epoch 11/20\n",
      "7982/7982 [==============================] - 1s 79us/step - loss: 0.7121 - acc: 0.8059 - val_loss: 1.3978 - val_acc: 0.7170\n",
      "Epoch 12/20\n",
      "7982/7982 [==============================] - 1s 82us/step - loss: 0.6666 - acc: 0.8176 - val_loss: 1.4037 - val_acc: 0.7220\n",
      "Epoch 13/20\n",
      "7982/7982 [==============================] - 1s 81us/step - loss: 0.6227 - acc: 0.8307 - val_loss: 1.4563 - val_acc: 0.7160\n",
      "Epoch 14/20\n",
      "7982/7982 [==============================] - 1s 78us/step - loss: 0.5845 - acc: 0.8366 - val_loss: 1.4708 - val_acc: 0.7210\n",
      "Epoch 15/20\n",
      "7982/7982 [==============================] - 1s 78us/step - loss: 0.5517 - acc: 0.8473 - val_loss: 1.5125 - val_acc: 0.7200\n",
      "Epoch 16/20\n",
      "7982/7982 [==============================] - 1s 78us/step - loss: 0.5206 - acc: 0.8587 - val_loss: 1.5592 - val_acc: 0.7240\n",
      "Epoch 17/20\n",
      "7982/7982 [==============================] - 1s 78us/step - loss: 0.4930 - acc: 0.8698 - val_loss: 1.5936 - val_acc: 0.7170\n",
      "Epoch 18/20\n",
      "7982/7982 [==============================] - 1s 77us/step - loss: 0.4677 - acc: 0.8816 - val_loss: 1.6463 - val_acc: 0.7200\n",
      "Epoch 19/20\n",
      "7982/7982 [==============================] - 1s 84us/step - loss: 0.4426 - acc: 0.8861 - val_loss: 1.6646 - val_acc: 0.7160\n",
      "Epoch 20/20\n",
      "7982/7982 [==============================] - 1s 79us/step - loss: 0.4257 - acc: 0.8905 - val_loss: 1.7422 - val_acc: 0.7110\n"
     ]
    },
    {
     "data": {
      "text/plain": [
       "<keras.callbacks.History at 0x7fa712ed7e80>"
      ]
     },
     "execution_count": 56,
     "metadata": {},
     "output_type": "execute_result"
    }
   ],
   "source": [
    "model = models.Sequential()\n",
    "model.add(layers.Dense(64, activation='relu', input_shape=(10000,)))\n",
    "model.add(layers.Dense(4, activation='relu'))\n",
    "model.add(layers.Dense(46, activation='softmax'))\n",
    "model.compile(optimizer='rmsprop', loss='categorical_crossentropy', metrics=['accuracy'])\n",
    "model.fit(partial_x_train,\n",
    "          partial_y_train,\n",
    "          epochs=20,\n",
    "          batch_size=128,\n",
    "          validation_data=(x_val, y_val))"
   ]
  },
  {
   "cell_type": "code",
   "execution_count": null,
   "metadata": {},
   "outputs": [],
   "source": []
  }
 ],
 "metadata": {
  "kernelspec": {
   "display_name": "Python 3",
   "language": "python",
   "name": "python3"
  },
  "language_info": {
   "codemirror_mode": {
    "name": "ipython",
    "version": 3
   },
   "file_extension": ".py",
   "mimetype": "text/x-python",
   "name": "python",
   "nbconvert_exporter": "python",
   "pygments_lexer": "ipython3",
   "version": "3.6.5"
  }
 },
 "nbformat": 4,
 "nbformat_minor": 2
}
