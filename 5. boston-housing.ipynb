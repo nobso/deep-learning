{
 "cells": [
  {
   "cell_type": "markdown",
   "metadata": {},
   "source": [
    "### Predicting house prices: a regression example"
   ]
  },
  {
   "cell_type": "markdown",
   "metadata": {},
   "source": [
    "### Loading the required libs"
   ]
  },
  {
   "cell_type": "code",
   "execution_count": 1,
   "metadata": {},
   "outputs": [
    {
     "name": "stderr",
     "output_type": "stream",
     "text": [
      "/home/ouser/anaconda3/lib/python3.6/site-packages/h5py/__init__.py:36: FutureWarning: Conversion of the second argument of issubdtype from `float` to `np.floating` is deprecated. In future, it will be treated as `np.float64 == np.dtype(float).type`.\n",
      "  from ._conv import register_converters as _register_converters\n",
      "Using TensorFlow backend.\n"
     ]
    }
   ],
   "source": [
    "from keras.datasets import boston_housing"
   ]
  },
  {
   "cell_type": "markdown",
   "metadata": {},
   "source": [
    "### Loading the Boston housing dataset"
   ]
  },
  {
   "cell_type": "code",
   "execution_count": 2,
   "metadata": {},
   "outputs": [],
   "source": [
    "(train_data, train_targets), (test_data, test_targets) = boston_housing.load_data()"
   ]
  },
  {
   "cell_type": "code",
   "execution_count": 3,
   "metadata": {},
   "outputs": [
    {
     "data": {
      "text/plain": [
       "506"
      ]
     },
     "execution_count": 3,
     "metadata": {},
     "output_type": "execute_result"
    }
   ],
   "source": [
    "len(train_data) + len(test_data)"
   ]
  },
  {
   "cell_type": "code",
   "execution_count": 4,
   "metadata": {},
   "outputs": [
    {
     "data": {
      "text/plain": [
       "(404, 13)"
      ]
     },
     "execution_count": 4,
     "metadata": {},
     "output_type": "execute_result"
    }
   ],
   "source": [
    "train_data.shape"
   ]
  },
  {
   "cell_type": "code",
   "execution_count": 5,
   "metadata": {},
   "outputs": [
    {
     "data": {
      "text/plain": [
       "(102, 13)"
      ]
     },
     "execution_count": 5,
     "metadata": {},
     "output_type": "execute_result"
    }
   ],
   "source": [
    "test_data.shape"
   ]
  },
  {
   "cell_type": "code",
   "execution_count": 6,
   "metadata": {},
   "outputs": [
    {
     "data": {
      "text/plain": [
       "array([  1.23247,   0.     ,   8.14   ,   0.     ,   0.538  ,   6.142  ,\n",
       "        91.7    ,   3.9769 ,   4.     , 307.     ,  21.     , 396.9    ,\n",
       "        18.72   ])"
      ]
     },
     "execution_count": 6,
     "metadata": {},
     "output_type": "execute_result"
    }
   ],
   "source": [
    "train_data[0]"
   ]
  },
  {
   "cell_type": "code",
   "execution_count": 7,
   "metadata": {},
   "outputs": [
    {
     "data": {
      "text/plain": [
       "15.2"
      ]
     },
     "execution_count": 7,
     "metadata": {},
     "output_type": "execute_result"
    }
   ],
   "source": [
    "train_targets[0]"
   ]
  },
  {
   "cell_type": "markdown",
   "metadata": {},
   "source": [
    "## Preparing the data"
   ]
  },
  {
   "cell_type": "markdown",
   "metadata": {},
   "source": [
    "### Normalizing the data"
   ]
  },
  {
   "cell_type": "code",
   "execution_count": 8,
   "metadata": {},
   "outputs": [],
   "source": [
    "mean = train_data.mean(axis=0)\n",
    "train_data -= mean\n",
    "std = train_data.std(axis=0)\n",
    "train_data /= std\n",
    "test_data -= mean\n",
    "test_data /= std\n"
   ]
  },
  {
   "cell_type": "code",
   "execution_count": 9,
   "metadata": {},
   "outputs": [
    {
     "data": {
      "text/plain": [
       "array([3.74511057e+00, 1.14801980e+01, 1.11044307e+01, 6.18811881e-02,\n",
       "       5.57355941e-01, 6.26708168e+00, 6.90106436e+01, 3.74027079e+00,\n",
       "       9.44059406e+00, 4.05898515e+02, 1.84759901e+01, 3.54783168e+02,\n",
       "       1.27408168e+01])"
      ]
     },
     "execution_count": 9,
     "metadata": {},
     "output_type": "execute_result"
    }
   ],
   "source": [
    "mean"
   ]
  },
  {
   "cell_type": "code",
   "execution_count": 10,
   "metadata": {},
   "outputs": [
    {
     "data": {
      "text/plain": [
       "array([9.22929073e+00, 2.37382770e+01, 6.80287253e+00, 2.40939633e-01,\n",
       "       1.17147847e-01, 7.08908627e-01, 2.79060634e+01, 2.02770050e+00,\n",
       "       8.68758849e+00, 1.66168506e+02, 2.19765689e+00, 9.39946015e+01,\n",
       "       7.24556085e+00])"
      ]
     },
     "execution_count": 10,
     "metadata": {},
     "output_type": "execute_result"
    }
   ],
   "source": [
    "std"
   ]
  },
  {
   "cell_type": "markdown",
   "metadata": {},
   "source": [
    "### Building your network"
   ]
  },
  {
   "cell_type": "markdown",
   "metadata": {},
   "source": [
    "### Model definition"
   ]
  },
  {
   "cell_type": "code",
   "execution_count": 11,
   "metadata": {},
   "outputs": [],
   "source": [
    "from keras import models\n",
    "from keras import layers"
   ]
  },
  {
   "cell_type": "code",
   "execution_count": 12,
   "metadata": {},
   "outputs": [
    {
     "data": {
      "text/plain": [
       "13"
      ]
     },
     "execution_count": 12,
     "metadata": {},
     "output_type": "execute_result"
    }
   ],
   "source": [
    "train_data.shape[1]"
   ]
  },
  {
   "cell_type": "code",
   "execution_count": 13,
   "metadata": {},
   "outputs": [],
   "source": [
    "def build_model():\n",
    "    model = models.Sequential()\n",
    "    model.add(layers.Dense(64, activation='relu', input_shape=(train_data.shape[1],)))\n",
    "    model.add(layers.Dense(64, activation='relu'))\n",
    "    model.add(layers.Dense(1))\n",
    "    model.compile(optimizer='rmsprop', loss='mse', metrics=['mae'])\n",
    "    return model"
   ]
  },
  {
   "cell_type": "markdown",
   "metadata": {},
   "source": [
    "### K-fold validation"
   ]
  },
  {
   "cell_type": "code",
   "execution_count": 14,
   "metadata": {},
   "outputs": [
    {
     "name": "stdout",
     "output_type": "stream",
     "text": [
      "processing fold # 0\n",
      "Epoch 1/100\n",
      "303/303 [==============================] - 1s 4ms/step - loss: 202.2791 - mean_absolute_error: 10.7687\n",
      "Epoch 2/100\n",
      "303/303 [==============================] - 1s 2ms/step - loss: 30.2477 - mean_absolute_error: 3.8348\n",
      "Epoch 3/100\n",
      "303/303 [==============================] - 1s 2ms/step - loss: 21.3410 - mean_absolute_error: 3.1761\n",
      "Epoch 4/100\n",
      "303/303 [==============================] - 1s 2ms/step - loss: 18.2526 - mean_absolute_error: 2.8939\n",
      "Epoch 5/100\n",
      "303/303 [==============================] - 1s 2ms/step - loss: 16.6115 - mean_absolute_error: 2.6639\n",
      "Epoch 6/100\n",
      "303/303 [==============================] - 1s 2ms/step - loss: 15.5089 - mean_absolute_error: 2.5695\n",
      "Epoch 7/100\n",
      "303/303 [==============================] - 1s 2ms/step - loss: 14.2414 - mean_absolute_error: 2.5323\n",
      "Epoch 8/100\n",
      "303/303 [==============================] - 1s 2ms/step - loss: 13.8816 - mean_absolute_error: 2.4244\n",
      "Epoch 9/100\n",
      "303/303 [==============================] - 1s 2ms/step - loss: 13.3437 - mean_absolute_error: 2.4079\n",
      "Epoch 10/100\n",
      "303/303 [==============================] - 1s 2ms/step - loss: 12.2055 - mean_absolute_error: 2.3749\n",
      "Epoch 11/100\n",
      "303/303 [==============================] - 1s 2ms/step - loss: 11.9992 - mean_absolute_error: 2.2836\n",
      "Epoch 12/100\n",
      "303/303 [==============================] - 1s 2ms/step - loss: 11.0377 - mean_absolute_error: 2.2647\n",
      "Epoch 13/100\n",
      "303/303 [==============================] - 1s 2ms/step - loss: 11.0186 - mean_absolute_error: 2.2218\n",
      "Epoch 14/100\n",
      "303/303 [==============================] - 1s 2ms/step - loss: 10.9364 - mean_absolute_error: 2.1769\n",
      "Epoch 15/100\n",
      "303/303 [==============================] - 1s 2ms/step - loss: 10.8579 - mean_absolute_error: 2.1479\n",
      "Epoch 16/100\n",
      "303/303 [==============================] - 1s 2ms/step - loss: 10.0389 - mean_absolute_error: 2.1510\n",
      "Epoch 17/100\n",
      "303/303 [==============================] - 1s 2ms/step - loss: 10.6379 - mean_absolute_error: 2.0746\n",
      "Epoch 18/100\n",
      "303/303 [==============================] - 1s 2ms/step - loss: 10.0971 - mean_absolute_error: 2.0791\n",
      "Epoch 19/100\n",
      "303/303 [==============================] - 1s 2ms/step - loss: 9.7776 - mean_absolute_error: 2.0368\n",
      "Epoch 20/100\n",
      "303/303 [==============================] - 1s 2ms/step - loss: 9.8072 - mean_absolute_error: 2.0026\n",
      "Epoch 21/100\n",
      "303/303 [==============================] - 1s 2ms/step - loss: 9.1731 - mean_absolute_error: 1.9978\n",
      "Epoch 22/100\n",
      "303/303 [==============================] - 1s 2ms/step - loss: 8.8863 - mean_absolute_error: 2.0103\n",
      "Epoch 23/100\n",
      "303/303 [==============================] - 1s 2ms/step - loss: 9.6518 - mean_absolute_error: 1.9887\n",
      "Epoch 24/100\n",
      "303/303 [==============================] - 1s 2ms/step - loss: 8.7949 - mean_absolute_error: 1.9539\n",
      "Epoch 25/100\n",
      "303/303 [==============================] - 1s 2ms/step - loss: 8.5144 - mean_absolute_error: 1.9520\n",
      "Epoch 26/100\n",
      "303/303 [==============================] - 1s 2ms/step - loss: 8.8816 - mean_absolute_error: 1.9418\n",
      "Epoch 27/100\n",
      "303/303 [==============================] - 1s 2ms/step - loss: 8.3671 - mean_absolute_error: 1.8958\n",
      "Epoch 28/100\n",
      "303/303 [==============================] - 1s 2ms/step - loss: 8.0608 - mean_absolute_error: 1.8853\n",
      "Epoch 29/100\n",
      "303/303 [==============================] - 1s 2ms/step - loss: 8.2657 - mean_absolute_error: 1.8359\n",
      "Epoch 30/100\n",
      "303/303 [==============================] - 1s 2ms/step - loss: 8.1661 - mean_absolute_error: 1.8499\n",
      "Epoch 31/100\n",
      "303/303 [==============================] - 1s 2ms/step - loss: 8.0815 - mean_absolute_error: 1.8785\n",
      "Epoch 32/100\n",
      "303/303 [==============================] - 1s 2ms/step - loss: 7.8715 - mean_absolute_error: 1.7872\n",
      "Epoch 33/100\n",
      "303/303 [==============================] - 1s 2ms/step - loss: 7.6699 - mean_absolute_error: 1.8397\n",
      "Epoch 34/100\n",
      "303/303 [==============================] - 1s 2ms/step - loss: 7.6142 - mean_absolute_error: 1.8371\n",
      "Epoch 35/100\n",
      "303/303 [==============================] - 1s 2ms/step - loss: 7.6538 - mean_absolute_error: 1.7461\n",
      "Epoch 36/100\n",
      "303/303 [==============================] - 1s 2ms/step - loss: 7.4784 - mean_absolute_error: 1.7153\n",
      "Epoch 37/100\n",
      "303/303 [==============================] - 1s 2ms/step - loss: 7.6821 - mean_absolute_error: 1.7501\n",
      "Epoch 38/100\n",
      "303/303 [==============================] - 1s 2ms/step - loss: 7.3451 - mean_absolute_error: 1.7756\n",
      "Epoch 39/100\n",
      "303/303 [==============================] - 1s 2ms/step - loss: 7.0617 - mean_absolute_error: 1.7437\n",
      "Epoch 40/100\n",
      "303/303 [==============================] - 1s 2ms/step - loss: 7.3971 - mean_absolute_error: 1.7532\n",
      "Epoch 41/100\n",
      "303/303 [==============================] - 1s 2ms/step - loss: 6.9432 - mean_absolute_error: 1.7293\n",
      "Epoch 42/100\n",
      "303/303 [==============================] - 1s 2ms/step - loss: 6.9768 - mean_absolute_error: 1.7223\n",
      "Epoch 43/100\n",
      "303/303 [==============================] - 1s 2ms/step - loss: 7.0002 - mean_absolute_error: 1.7240\n",
      "Epoch 44/100\n",
      "303/303 [==============================] - 1s 2ms/step - loss: 6.9958 - mean_absolute_error: 1.6632\n",
      "Epoch 45/100\n",
      "303/303 [==============================] - 1s 2ms/step - loss: 6.6533 - mean_absolute_error: 1.7032\n",
      "Epoch 46/100\n",
      "303/303 [==============================] - 1s 2ms/step - loss: 6.6785 - mean_absolute_error: 1.6768\n",
      "Epoch 47/100\n",
      "303/303 [==============================] - 1s 2ms/step - loss: 6.5254 - mean_absolute_error: 1.6314\n",
      "Epoch 48/100\n",
      "303/303 [==============================] - 1s 2ms/step - loss: 6.6316 - mean_absolute_error: 1.6031\n",
      "Epoch 49/100\n",
      "303/303 [==============================] - 1s 2ms/step - loss: 6.7284 - mean_absolute_error: 1.6478\n",
      "Epoch 50/100\n",
      "303/303 [==============================] - 1s 2ms/step - loss: 6.6012 - mean_absolute_error: 1.6946\n",
      "Epoch 51/100\n",
      "303/303 [==============================] - 1s 2ms/step - loss: 6.4921 - mean_absolute_error: 1.6365\n",
      "Epoch 52/100\n",
      "303/303 [==============================] - 1s 2ms/step - loss: 6.3894 - mean_absolute_error: 1.6704\n",
      "Epoch 53/100\n",
      "303/303 [==============================] - 1s 2ms/step - loss: 5.9400 - mean_absolute_error: 1.6630\n",
      "Epoch 54/100\n",
      "303/303 [==============================] - 1s 2ms/step - loss: 6.6704 - mean_absolute_error: 1.6336\n",
      "Epoch 55/100\n",
      "303/303 [==============================] - 1s 2ms/step - loss: 6.4422 - mean_absolute_error: 1.6014\n",
      "Epoch 56/100\n",
      "303/303 [==============================] - 1s 2ms/step - loss: 6.1391 - mean_absolute_error: 1.6207\n",
      "Epoch 57/100\n",
      "303/303 [==============================] - 1s 2ms/step - loss: 6.1990 - mean_absolute_error: 1.5713\n",
      "Epoch 58/100\n",
      "303/303 [==============================] - 1s 2ms/step - loss: 5.8243 - mean_absolute_error: 1.5212\n",
      "Epoch 59/100\n",
      "303/303 [==============================] - 1s 2ms/step - loss: 6.0144 - mean_absolute_error: 1.5663\n",
      "Epoch 60/100\n",
      "303/303 [==============================] - 1s 2ms/step - loss: 6.3046 - mean_absolute_error: 1.5800\n",
      "Epoch 61/100\n",
      "303/303 [==============================] - 1s 2ms/step - loss: 6.1400 - mean_absolute_error: 1.6042\n",
      "Epoch 62/100\n",
      "303/303 [==============================] - 1s 2ms/step - loss: 6.0915 - mean_absolute_error: 1.5179\n",
      "Epoch 63/100\n",
      "303/303 [==============================] - 1s 2ms/step - loss: 5.5183 - mean_absolute_error: 1.5968\n",
      "Epoch 64/100\n",
      "303/303 [==============================] - 1s 2ms/step - loss: 5.8949 - mean_absolute_error: 1.5734\n",
      "Epoch 65/100\n",
      "303/303 [==============================] - 1s 2ms/step - loss: 5.8359 - mean_absolute_error: 1.6093\n",
      "Epoch 66/100\n",
      "303/303 [==============================] - 1s 2ms/step - loss: 5.7304 - mean_absolute_error: 1.5905\n",
      "Epoch 67/100\n",
      "303/303 [==============================] - 1s 2ms/step - loss: 5.4769 - mean_absolute_error: 1.4964\n",
      "Epoch 68/100\n",
      "303/303 [==============================] - 1s 2ms/step - loss: 5.2551 - mean_absolute_error: 1.4730\n",
      "Epoch 69/100\n",
      "303/303 [==============================] - 1s 2ms/step - loss: 5.6625 - mean_absolute_error: 1.5026\n",
      "Epoch 70/100\n",
      "303/303 [==============================] - 1s 2ms/step - loss: 5.7518 - mean_absolute_error: 1.4690\n",
      "Epoch 71/100\n",
      "303/303 [==============================] - 1s 2ms/step - loss: 5.6019 - mean_absolute_error: 1.5241\n",
      "Epoch 72/100\n",
      "303/303 [==============================] - 1s 2ms/step - loss: 5.5269 - mean_absolute_error: 1.4792\n",
      "Epoch 73/100\n"
     ]
    },
    {
     "name": "stdout",
     "output_type": "stream",
     "text": [
      "303/303 [==============================] - 1s 2ms/step - loss: 5.3453 - mean_absolute_error: 1.4405\n",
      "Epoch 74/100\n",
      "303/303 [==============================] - 1s 2ms/step - loss: 5.1448 - mean_absolute_error: 1.4716\n",
      "Epoch 75/100\n",
      "303/303 [==============================] - 1s 2ms/step - loss: 5.2352 - mean_absolute_error: 1.5224\n",
      "Epoch 76/100\n",
      "303/303 [==============================] - 1s 2ms/step - loss: 5.5284 - mean_absolute_error: 1.5012\n",
      "Epoch 77/100\n",
      "303/303 [==============================] - 1s 2ms/step - loss: 5.3304 - mean_absolute_error: 1.4337\n",
      "Epoch 78/100\n",
      "303/303 [==============================] - 1s 2ms/step - loss: 5.4951 - mean_absolute_error: 1.5297\n",
      "Epoch 79/100\n",
      "303/303 [==============================] - 1s 2ms/step - loss: 5.0507 - mean_absolute_error: 1.4077\n",
      "Epoch 80/100\n",
      "303/303 [==============================] - 1s 2ms/step - loss: 5.2914 - mean_absolute_error: 1.4672\n",
      "Epoch 81/100\n",
      "303/303 [==============================] - 1s 2ms/step - loss: 5.2243 - mean_absolute_error: 1.4569\n",
      "Epoch 82/100\n",
      "303/303 [==============================] - 1s 2ms/step - loss: 5.0644 - mean_absolute_error: 1.4922\n",
      "Epoch 83/100\n",
      "303/303 [==============================] - 1s 2ms/step - loss: 5.1439 - mean_absolute_error: 1.4551\n",
      "Epoch 84/100\n",
      "303/303 [==============================] - 1s 2ms/step - loss: 5.0327 - mean_absolute_error: 1.4910\n",
      "Epoch 85/100\n",
      "303/303 [==============================] - 1s 2ms/step - loss: 5.1106 - mean_absolute_error: 1.4178\n",
      "Epoch 86/100\n",
      "303/303 [==============================] - 1s 2ms/step - loss: 5.0378 - mean_absolute_error: 1.4159\n",
      "Epoch 87/100\n",
      "303/303 [==============================] - 1s 2ms/step - loss: 4.9856 - mean_absolute_error: 1.4619\n",
      "Epoch 88/100\n",
      "303/303 [==============================] - 1s 2ms/step - loss: 4.8852 - mean_absolute_error: 1.3502\n",
      "Epoch 89/100\n",
      "303/303 [==============================] - 1s 2ms/step - loss: 5.0444 - mean_absolute_error: 1.3787\n",
      "Epoch 90/100\n",
      "303/303 [==============================] - 1s 2ms/step - loss: 4.7411 - mean_absolute_error: 1.4199\n",
      "Epoch 91/100\n",
      "303/303 [==============================] - 1s 2ms/step - loss: 4.8537 - mean_absolute_error: 1.4400\n",
      "Epoch 92/100\n",
      "303/303 [==============================] - 1s 2ms/step - loss: 4.2946 - mean_absolute_error: 1.4264\n",
      "Epoch 93/100\n",
      "303/303 [==============================] - 1s 2ms/step - loss: 4.4221 - mean_absolute_error: 1.4015\n",
      "Epoch 94/100\n",
      "303/303 [==============================] - 1s 2ms/step - loss: 4.9462 - mean_absolute_error: 1.3987\n",
      "Epoch 95/100\n",
      "303/303 [==============================] - 1s 2ms/step - loss: 4.3123 - mean_absolute_error: 1.3399\n",
      "Epoch 96/100\n",
      "303/303 [==============================] - 1s 2ms/step - loss: 4.6898 - mean_absolute_error: 1.4296\n",
      "Epoch 97/100\n",
      "303/303 [==============================] - 1s 2ms/step - loss: 4.6984 - mean_absolute_error: 1.4107\n",
      "Epoch 98/100\n",
      "303/303 [==============================] - 1s 2ms/step - loss: 4.5194 - mean_absolute_error: 1.4172\n",
      "Epoch 99/100\n",
      "303/303 [==============================] - 1s 2ms/step - loss: 4.5836 - mean_absolute_error: 1.3816\n",
      "Epoch 100/100\n",
      "303/303 [==============================] - 1s 2ms/step - loss: 4.4677 - mean_absolute_error: 1.3791\n",
      "processing fold # 1\n",
      "Epoch 1/100\n",
      "303/303 [==============================] - 1s 3ms/step - loss: 184.3291 - mean_absolute_error: 9.8700\n",
      "Epoch 2/100\n",
      "303/303 [==============================] - 1s 2ms/step - loss: 27.8193 - mean_absolute_error: 3.5176\n",
      "Epoch 3/100\n",
      "303/303 [==============================] - 1s 2ms/step - loss: 20.0585 - mean_absolute_error: 2.9757\n",
      "Epoch 4/100\n",
      "303/303 [==============================] - 1s 2ms/step - loss: 16.9637 - mean_absolute_error: 2.6964\n",
      "Epoch 5/100\n",
      "303/303 [==============================] - 1s 2ms/step - loss: 15.0710 - mean_absolute_error: 2.5081\n",
      "Epoch 6/100\n",
      "303/303 [==============================] - 1s 2ms/step - loss: 13.4028 - mean_absolute_error: 2.4055\n",
      "Epoch 7/100\n",
      "303/303 [==============================] - 1s 2ms/step - loss: 13.1286 - mean_absolute_error: 2.3435\n",
      "Epoch 8/100\n",
      "303/303 [==============================] - 1s 2ms/step - loss: 12.6643 - mean_absolute_error: 2.2447\n",
      "Epoch 9/100\n",
      "303/303 [==============================] - 1s 2ms/step - loss: 11.5048 - mean_absolute_error: 2.1977\n",
      "Epoch 10/100\n",
      "303/303 [==============================] - 1s 2ms/step - loss: 10.9698 - mean_absolute_error: 2.1723\n",
      "Epoch 11/100\n",
      "303/303 [==============================] - 1s 2ms/step - loss: 11.0246 - mean_absolute_error: 2.1269\n",
      "Epoch 12/100\n",
      "303/303 [==============================] - 1s 2ms/step - loss: 10.3408 - mean_absolute_error: 2.1110\n",
      "Epoch 13/100\n",
      "303/303 [==============================] - 1s 2ms/step - loss: 10.3975 - mean_absolute_error: 2.0873\n",
      "Epoch 14/100\n",
      "303/303 [==============================] - 1s 2ms/step - loss: 10.0182 - mean_absolute_error: 2.1328\n",
      "Epoch 15/100\n",
      "303/303 [==============================] - 1s 2ms/step - loss: 9.5732 - mean_absolute_error: 2.0073\n",
      "Epoch 16/100\n",
      "303/303 [==============================] - 1s 2ms/step - loss: 10.2894 - mean_absolute_error: 2.0543\n",
      "Epoch 17/100\n",
      "303/303 [==============================] - 1s 2ms/step - loss: 9.5201 - mean_absolute_error: 2.0047\n",
      "Epoch 18/100\n",
      "303/303 [==============================] - 1s 2ms/step - loss: 9.8115 - mean_absolute_error: 2.0477\n",
      "Epoch 19/100\n",
      "303/303 [==============================] - 1s 2ms/step - loss: 9.6304 - mean_absolute_error: 2.0282\n",
      "Epoch 20/100\n",
      "303/303 [==============================] - 1s 2ms/step - loss: 9.2868 - mean_absolute_error: 2.0286\n",
      "Epoch 21/100\n",
      "303/303 [==============================] - 1s 2ms/step - loss: 9.5278 - mean_absolute_error: 2.0371\n",
      "Epoch 22/100\n",
      "303/303 [==============================] - 1s 2ms/step - loss: 9.0878 - mean_absolute_error: 1.9444\n",
      "Epoch 23/100\n",
      "303/303 [==============================] - 1s 2ms/step - loss: 9.1033 - mean_absolute_error: 1.9079\n",
      "Epoch 24/100\n",
      "303/303 [==============================] - 1s 2ms/step - loss: 9.0715 - mean_absolute_error: 1.9537\n",
      "Epoch 25/100\n",
      "303/303 [==============================] - 1s 2ms/step - loss: 8.5024 - mean_absolute_error: 1.9176\n",
      "Epoch 26/100\n",
      "303/303 [==============================] - 1s 2ms/step - loss: 8.5292 - mean_absolute_error: 1.9142\n",
      "Epoch 27/100\n",
      "303/303 [==============================] - 1s 2ms/step - loss: 8.2271 - mean_absolute_error: 1.9089\n",
      "Epoch 28/100\n",
      "303/303 [==============================] - 1s 2ms/step - loss: 7.6424 - mean_absolute_error: 1.8433\n",
      "Epoch 29/100\n",
      "303/303 [==============================] - 1s 2ms/step - loss: 8.1203 - mean_absolute_error: 1.8670\n",
      "Epoch 30/100\n",
      "303/303 [==============================] - 1s 2ms/step - loss: 8.3161 - mean_absolute_error: 1.8189\n",
      "Epoch 31/100\n",
      "303/303 [==============================] - 1s 2ms/step - loss: 8.2417 - mean_absolute_error: 1.8791\n",
      "Epoch 32/100\n",
      "303/303 [==============================] - 1s 2ms/step - loss: 8.1263 - mean_absolute_error: 1.8905\n",
      "Epoch 33/100\n",
      "303/303 [==============================] - 1s 2ms/step - loss: 7.7472 - mean_absolute_error: 1.8445\n",
      "Epoch 34/100\n",
      "303/303 [==============================] - 1s 2ms/step - loss: 8.1650 - mean_absolute_error: 1.8636\n",
      "Epoch 35/100\n",
      "303/303 [==============================] - 1s 2ms/step - loss: 8.1573 - mean_absolute_error: 1.8143\n",
      "Epoch 36/100\n",
      "303/303 [==============================] - 1s 2ms/step - loss: 7.5369 - mean_absolute_error: 1.7635\n",
      "Epoch 37/100\n",
      "303/303 [==============================] - 1s 2ms/step - loss: 8.0164 - mean_absolute_error: 1.8078\n",
      "Epoch 38/100\n",
      "303/303 [==============================] - 1s 2ms/step - loss: 8.2159 - mean_absolute_error: 1.8186\n",
      "Epoch 39/100\n",
      "303/303 [==============================] - 1s 2ms/step - loss: 7.3784 - mean_absolute_error: 1.7445\n",
      "Epoch 40/100\n",
      "303/303 [==============================] - 1s 2ms/step - loss: 7.6140 - mean_absolute_error: 1.8169\n",
      "Epoch 41/100\n",
      "303/303 [==============================] - 1s 2ms/step - loss: 7.7060 - mean_absolute_error: 1.7427\n",
      "Epoch 42/100\n",
      "303/303 [==============================] - 1s 2ms/step - loss: 7.2209 - mean_absolute_error: 1.7227\n",
      "Epoch 43/100\n",
      "303/303 [==============================] - 1s 2ms/step - loss: 7.2989 - mean_absolute_error: 1.7265\n",
      "Epoch 44/100\n",
      "303/303 [==============================] - 1s 2ms/step - loss: 7.4049 - mean_absolute_error: 1.7565\n",
      "Epoch 45/100\n"
     ]
    },
    {
     "name": "stdout",
     "output_type": "stream",
     "text": [
      "303/303 [==============================] - 1s 2ms/step - loss: 6.7425 - mean_absolute_error: 1.6787\n",
      "Epoch 46/100\n",
      "303/303 [==============================] - 1s 2ms/step - loss: 7.2667 - mean_absolute_error: 1.7031\n",
      "Epoch 47/100\n",
      "303/303 [==============================] - 1s 2ms/step - loss: 7.4954 - mean_absolute_error: 1.7175\n",
      "Epoch 48/100\n",
      "303/303 [==============================] - 1s 2ms/step - loss: 7.5935 - mean_absolute_error: 1.7189\n",
      "Epoch 49/100\n",
      "303/303 [==============================] - 1s 2ms/step - loss: 7.1282 - mean_absolute_error: 1.6824\n",
      "Epoch 50/100\n",
      "303/303 [==============================] - 1s 2ms/step - loss: 7.0896 - mean_absolute_error: 1.6799\n",
      "Epoch 51/100\n",
      "303/303 [==============================] - 1s 2ms/step - loss: 7.1713 - mean_absolute_error: 1.6524\n",
      "Epoch 52/100\n",
      "303/303 [==============================] - 1s 2ms/step - loss: 6.7426 - mean_absolute_error: 1.6366\n",
      "Epoch 53/100\n",
      "303/303 [==============================] - 1s 2ms/step - loss: 6.9017 - mean_absolute_error: 1.7184\n",
      "Epoch 54/100\n",
      "303/303 [==============================] - 1s 2ms/step - loss: 6.5449 - mean_absolute_error: 1.6079\n",
      "Epoch 55/100\n",
      "303/303 [==============================] - 1s 2ms/step - loss: 6.5336 - mean_absolute_error: 1.6718\n",
      "Epoch 56/100\n",
      "303/303 [==============================] - 1s 2ms/step - loss: 6.8930 - mean_absolute_error: 1.6223\n",
      "Epoch 57/100\n",
      "303/303 [==============================] - 1s 2ms/step - loss: 6.2589 - mean_absolute_error: 1.5969\n",
      "Epoch 58/100\n",
      "303/303 [==============================] - 1s 2ms/step - loss: 6.3048 - mean_absolute_error: 1.6613\n",
      "Epoch 59/100\n",
      "303/303 [==============================] - 1s 2ms/step - loss: 6.2744 - mean_absolute_error: 1.5997\n",
      "Epoch 60/100\n",
      "303/303 [==============================] - 1s 2ms/step - loss: 6.2719 - mean_absolute_error: 1.6066\n",
      "Epoch 61/100\n",
      "303/303 [==============================] - 1s 2ms/step - loss: 6.5783 - mean_absolute_error: 1.5791\n",
      "Epoch 62/100\n",
      "303/303 [==============================] - 1s 2ms/step - loss: 5.9863 - mean_absolute_error: 1.5385\n",
      "Epoch 63/100\n",
      "303/303 [==============================] - 1s 2ms/step - loss: 5.8084 - mean_absolute_error: 1.5172\n",
      "Epoch 64/100\n",
      "303/303 [==============================] - 1s 2ms/step - loss: 5.8656 - mean_absolute_error: 1.5088\n",
      "Epoch 65/100\n",
      "303/303 [==============================] - 1s 2ms/step - loss: 5.9424 - mean_absolute_error: 1.5184\n",
      "Epoch 66/100\n",
      "303/303 [==============================] - 1s 2ms/step - loss: 6.1125 - mean_absolute_error: 1.5340\n",
      "Epoch 67/100\n",
      "303/303 [==============================] - 1s 2ms/step - loss: 5.5886 - mean_absolute_error: 1.5121\n",
      "Epoch 68/100\n",
      "303/303 [==============================] - 1s 2ms/step - loss: 6.0954 - mean_absolute_error: 1.5685\n",
      "Epoch 69/100\n",
      "303/303 [==============================] - 1s 2ms/step - loss: 5.6502 - mean_absolute_error: 1.5017\n",
      "Epoch 70/100\n",
      "303/303 [==============================] - 1s 2ms/step - loss: 5.7642 - mean_absolute_error: 1.5142\n",
      "Epoch 71/100\n",
      "303/303 [==============================] - 1s 2ms/step - loss: 5.9362 - mean_absolute_error: 1.5502\n",
      "Epoch 72/100\n",
      "303/303 [==============================] - 1s 2ms/step - loss: 5.6467 - mean_absolute_error: 1.4838\n",
      "Epoch 73/100\n",
      "303/303 [==============================] - 1s 2ms/step - loss: 5.7450 - mean_absolute_error: 1.5082\n",
      "Epoch 74/100\n",
      "303/303 [==============================] - 1s 2ms/step - loss: 4.8264 - mean_absolute_error: 1.4040\n",
      "Epoch 75/100\n",
      "303/303 [==============================] - 1s 2ms/step - loss: 5.5151 - mean_absolute_error: 1.4570\n",
      "Epoch 76/100\n",
      "303/303 [==============================] - 1s 2ms/step - loss: 5.9459 - mean_absolute_error: 1.4915\n",
      "Epoch 77/100\n",
      "303/303 [==============================] - 1s 2ms/step - loss: 5.3476 - mean_absolute_error: 1.4171\n",
      "Epoch 78/100\n",
      "303/303 [==============================] - 1s 2ms/step - loss: 5.1582 - mean_absolute_error: 1.4812\n",
      "Epoch 79/100\n",
      "303/303 [==============================] - 1s 2ms/step - loss: 5.3281 - mean_absolute_error: 1.4892\n",
      "Epoch 80/100\n",
      "303/303 [==============================] - 1s 2ms/step - loss: 5.4025 - mean_absolute_error: 1.4529\n",
      "Epoch 81/100\n",
      "303/303 [==============================] - 1s 2ms/step - loss: 5.0858 - mean_absolute_error: 1.4921\n",
      "Epoch 82/100\n",
      "303/303 [==============================] - 1s 2ms/step - loss: 4.9659 - mean_absolute_error: 1.4063\n",
      "Epoch 83/100\n",
      "303/303 [==============================] - 1s 2ms/step - loss: 5.1212 - mean_absolute_error: 1.4744\n",
      "Epoch 84/100\n",
      "303/303 [==============================] - 1s 2ms/step - loss: 5.0125 - mean_absolute_error: 1.5069\n",
      "Epoch 85/100\n",
      "303/303 [==============================] - 1s 2ms/step - loss: 5.0148 - mean_absolute_error: 1.3840\n",
      "Epoch 86/100\n",
      "303/303 [==============================] - 1s 2ms/step - loss: 4.8480 - mean_absolute_error: 1.4035\n",
      "Epoch 87/100\n",
      "303/303 [==============================] - 1s 2ms/step - loss: 4.8548 - mean_absolute_error: 1.3999\n",
      "Epoch 88/100\n",
      "303/303 [==============================] - 1s 2ms/step - loss: 5.0682 - mean_absolute_error: 1.4462\n",
      "Epoch 89/100\n",
      "303/303 [==============================] - 1s 2ms/step - loss: 4.9059 - mean_absolute_error: 1.3792\n",
      "Epoch 90/100\n",
      "303/303 [==============================] - 1s 2ms/step - loss: 4.9012 - mean_absolute_error: 1.4623\n",
      "Epoch 91/100\n",
      "303/303 [==============================] - 1s 2ms/step - loss: 4.9853 - mean_absolute_error: 1.4510\n",
      "Epoch 92/100\n",
      "303/303 [==============================] - 1s 2ms/step - loss: 4.6711 - mean_absolute_error: 1.4389\n",
      "Epoch 93/100\n",
      "303/303 [==============================] - 1s 2ms/step - loss: 4.3621 - mean_absolute_error: 1.4022\n",
      "Epoch 94/100\n",
      "303/303 [==============================] - 1s 2ms/step - loss: 4.8492 - mean_absolute_error: 1.4107\n",
      "Epoch 95/100\n",
      "303/303 [==============================] - 1s 2ms/step - loss: 4.0626 - mean_absolute_error: 1.3360\n",
      "Epoch 96/100\n",
      "303/303 [==============================] - 1s 2ms/step - loss: 4.6061 - mean_absolute_error: 1.4246\n",
      "Epoch 97/100\n",
      "303/303 [==============================] - 1s 2ms/step - loss: 4.5084 - mean_absolute_error: 1.4016\n",
      "Epoch 98/100\n",
      "303/303 [==============================] - 1s 2ms/step - loss: 4.5419 - mean_absolute_error: 1.3753\n",
      "Epoch 99/100\n",
      "303/303 [==============================] - 1s 2ms/step - loss: 4.7954 - mean_absolute_error: 1.3180\n",
      "Epoch 100/100\n",
      "303/303 [==============================] - 1s 2ms/step - loss: 4.4371 - mean_absolute_error: 1.3281\n",
      "processing fold # 2\n",
      "Epoch 1/100\n",
      "303/303 [==============================] - 1s 3ms/step - loss: 193.5290 - mean_absolute_error: 10.2624\n",
      "Epoch 2/100\n",
      "303/303 [==============================] - 1s 2ms/step - loss: 28.4040 - mean_absolute_error: 3.7043\n",
      "Epoch 3/100\n",
      "303/303 [==============================] - 1s 2ms/step - loss: 19.8475 - mean_absolute_error: 3.1659\n",
      "Epoch 4/100\n",
      "303/303 [==============================] - 1s 2ms/step - loss: 16.2349 - mean_absolute_error: 2.7836\n",
      "Epoch 5/100\n",
      "303/303 [==============================] - 1s 2ms/step - loss: 14.0623 - mean_absolute_error: 2.6306\n",
      "Epoch 6/100\n",
      "303/303 [==============================] - 1s 2ms/step - loss: 12.5240 - mean_absolute_error: 2.5009\n",
      "Epoch 7/100\n",
      "303/303 [==============================] - 1s 2ms/step - loss: 11.3272 - mean_absolute_error: 2.4332\n",
      "Epoch 8/100\n",
      "303/303 [==============================] - 1s 2ms/step - loss: 10.3113 - mean_absolute_error: 2.2892\n",
      "Epoch 9/100\n",
      "303/303 [==============================] - 1s 2ms/step - loss: 10.8232 - mean_absolute_error: 2.2427\n",
      "Epoch 10/100\n",
      "303/303 [==============================] - 1s 2ms/step - loss: 9.7900 - mean_absolute_error: 2.2257\n",
      "Epoch 11/100\n",
      "303/303 [==============================] - 1s 2ms/step - loss: 9.5981 - mean_absolute_error: 2.1622\n",
      "Epoch 12/100\n",
      "303/303 [==============================] - 1s 2ms/step - loss: 9.0085 - mean_absolute_error: 2.1622\n",
      "Epoch 13/100\n",
      "303/303 [==============================] - 1s 2ms/step - loss: 8.8323 - mean_absolute_error: 2.0184\n",
      "Epoch 14/100\n",
      "303/303 [==============================] - 1s 2ms/step - loss: 8.5297 - mean_absolute_error: 2.0366\n",
      "Epoch 15/100\n",
      "303/303 [==============================] - 1s 2ms/step - loss: 8.1696 - mean_absolute_error: 2.0930\n",
      "Epoch 16/100\n",
      "303/303 [==============================] - 1s 2ms/step - loss: 8.4566 - mean_absolute_error: 2.0231\n",
      "Epoch 17/100\n"
     ]
    },
    {
     "name": "stdout",
     "output_type": "stream",
     "text": [
      "303/303 [==============================] - 1s 2ms/step - loss: 8.0130 - mean_absolute_error: 1.9942\n",
      "Epoch 18/100\n",
      "303/303 [==============================] - 1s 2ms/step - loss: 8.1633 - mean_absolute_error: 1.9798\n",
      "Epoch 19/100\n",
      "303/303 [==============================] - 1s 2ms/step - loss: 7.3790 - mean_absolute_error: 1.9378\n",
      "Epoch 20/100\n",
      "303/303 [==============================] - 1s 2ms/step - loss: 7.8224 - mean_absolute_error: 1.9670\n",
      "Epoch 21/100\n",
      "303/303 [==============================] - 1s 2ms/step - loss: 7.6032 - mean_absolute_error: 1.9349\n",
      "Epoch 22/100\n",
      "303/303 [==============================] - 1s 2ms/step - loss: 7.5287 - mean_absolute_error: 1.8964\n",
      "Epoch 23/100\n",
      "303/303 [==============================] - 1s 2ms/step - loss: 7.2268 - mean_absolute_error: 1.8887\n",
      "Epoch 24/100\n",
      "303/303 [==============================] - 1s 2ms/step - loss: 7.0616 - mean_absolute_error: 1.8486\n",
      "Epoch 25/100\n",
      "303/303 [==============================] - 1s 2ms/step - loss: 7.1206 - mean_absolute_error: 1.8326\n",
      "Epoch 26/100\n",
      "303/303 [==============================] - 1s 2ms/step - loss: 7.0644 - mean_absolute_error: 1.8441\n",
      "Epoch 27/100\n",
      "303/303 [==============================] - 1s 2ms/step - loss: 7.0508 - mean_absolute_error: 1.7752\n",
      "Epoch 28/100\n",
      "303/303 [==============================] - 1s 2ms/step - loss: 6.5999 - mean_absolute_error: 1.7537\n",
      "Epoch 29/100\n",
      "303/303 [==============================] - 1s 2ms/step - loss: 6.8223 - mean_absolute_error: 1.8091\n",
      "Epoch 30/100\n",
      "303/303 [==============================] - 1s 2ms/step - loss: 6.1493 - mean_absolute_error: 1.7303\n",
      "Epoch 31/100\n",
      "303/303 [==============================] - 1s 2ms/step - loss: 6.3956 - mean_absolute_error: 1.7659\n",
      "Epoch 32/100\n",
      "303/303 [==============================] - 1s 2ms/step - loss: 6.5054 - mean_absolute_error: 1.7064\n",
      "Epoch 33/100\n",
      "303/303 [==============================] - 1s 2ms/step - loss: 6.2263 - mean_absolute_error: 1.7179\n",
      "Epoch 34/100\n",
      "303/303 [==============================] - 1s 2ms/step - loss: 6.0846 - mean_absolute_error: 1.6511\n",
      "Epoch 35/100\n",
      "303/303 [==============================] - 1s 2ms/step - loss: 5.9759 - mean_absolute_error: 1.7276\n",
      "Epoch 36/100\n",
      "303/303 [==============================] - 1s 2ms/step - loss: 5.9796 - mean_absolute_error: 1.7042\n",
      "Epoch 37/100\n",
      "303/303 [==============================] - 1s 2ms/step - loss: 6.1511 - mean_absolute_error: 1.6607\n",
      "Epoch 38/100\n",
      "303/303 [==============================] - 1s 2ms/step - loss: 6.0299 - mean_absolute_error: 1.6997\n",
      "Epoch 39/100\n",
      "303/303 [==============================] - 1s 2ms/step - loss: 6.0262 - mean_absolute_error: 1.7193\n",
      "Epoch 40/100\n",
      "303/303 [==============================] - 1s 2ms/step - loss: 5.8190 - mean_absolute_error: 1.6144\n",
      "Epoch 41/100\n",
      "303/303 [==============================] - 1s 2ms/step - loss: 5.9377 - mean_absolute_error: 1.6004\n",
      "Epoch 42/100\n",
      "303/303 [==============================] - 1s 2ms/step - loss: 5.2979 - mean_absolute_error: 1.6369\n",
      "Epoch 43/100\n",
      "303/303 [==============================] - 1s 2ms/step - loss: 5.3746 - mean_absolute_error: 1.6265\n",
      "Epoch 44/100\n",
      "303/303 [==============================] - 1s 2ms/step - loss: 5.7746 - mean_absolute_error: 1.5909\n",
      "Epoch 45/100\n",
      "303/303 [==============================] - 1s 2ms/step - loss: 5.3954 - mean_absolute_error: 1.6268\n",
      "Epoch 46/100\n",
      "303/303 [==============================] - 1s 2ms/step - loss: 5.2684 - mean_absolute_error: 1.5883\n",
      "Epoch 47/100\n",
      "303/303 [==============================] - 1s 2ms/step - loss: 5.5000 - mean_absolute_error: 1.5855\n",
      "Epoch 48/100\n",
      "303/303 [==============================] - 1s 2ms/step - loss: 5.3492 - mean_absolute_error: 1.5660\n",
      "Epoch 49/100\n",
      "303/303 [==============================] - 1s 2ms/step - loss: 5.0507 - mean_absolute_error: 1.5848\n",
      "Epoch 50/100\n",
      "303/303 [==============================] - 1s 2ms/step - loss: 4.8919 - mean_absolute_error: 1.5571\n",
      "Epoch 51/100\n",
      "303/303 [==============================] - 1s 2ms/step - loss: 4.9633 - mean_absolute_error: 1.5195\n",
      "Epoch 52/100\n",
      "303/303 [==============================] - 1s 2ms/step - loss: 4.9843 - mean_absolute_error: 1.5691\n",
      "Epoch 53/100\n",
      "303/303 [==============================] - 1s 2ms/step - loss: 4.9027 - mean_absolute_error: 1.5551\n",
      "Epoch 54/100\n",
      "303/303 [==============================] - 1s 2ms/step - loss: 4.9234 - mean_absolute_error: 1.5157\n",
      "Epoch 55/100\n",
      "303/303 [==============================] - 1s 2ms/step - loss: 4.8970 - mean_absolute_error: 1.5116\n",
      "Epoch 56/100\n",
      "303/303 [==============================] - 1s 2ms/step - loss: 4.6189 - mean_absolute_error: 1.5006\n",
      "Epoch 57/100\n",
      "303/303 [==============================] - 1s 2ms/step - loss: 4.5813 - mean_absolute_error: 1.5312\n",
      "Epoch 58/100\n",
      "303/303 [==============================] - 1s 2ms/step - loss: 4.3105 - mean_absolute_error: 1.4869\n",
      "Epoch 59/100\n",
      "303/303 [==============================] - 1s 2ms/step - loss: 4.6378 - mean_absolute_error: 1.4975\n",
      "Epoch 60/100\n",
      "303/303 [==============================] - 1s 2ms/step - loss: 4.5340 - mean_absolute_error: 1.5070\n",
      "Epoch 61/100\n",
      "303/303 [==============================] - 1s 2ms/step - loss: 4.5189 - mean_absolute_error: 1.4952\n",
      "Epoch 62/100\n",
      "303/303 [==============================] - 1s 2ms/step - loss: 4.2678 - mean_absolute_error: 1.4744\n",
      "Epoch 63/100\n",
      "303/303 [==============================] - 1s 2ms/step - loss: 4.1320 - mean_absolute_error: 1.4940\n",
      "Epoch 64/100\n",
      "303/303 [==============================] - 1s 2ms/step - loss: 4.2280 - mean_absolute_error: 1.4406\n",
      "Epoch 65/100\n",
      "303/303 [==============================] - 1s 2ms/step - loss: 4.1055 - mean_absolute_error: 1.4058\n",
      "Epoch 66/100\n",
      "303/303 [==============================] - 1s 2ms/step - loss: 3.9756 - mean_absolute_error: 1.4284\n",
      "Epoch 67/100\n",
      "303/303 [==============================] - 1s 2ms/step - loss: 4.2964 - mean_absolute_error: 1.4337\n",
      "Epoch 68/100\n",
      "303/303 [==============================] - 1s 2ms/step - loss: 4.0785 - mean_absolute_error: 1.4238\n",
      "Epoch 69/100\n",
      "303/303 [==============================] - 1s 2ms/step - loss: 3.9995 - mean_absolute_error: 1.4049\n",
      "Epoch 70/100\n",
      "303/303 [==============================] - 1s 2ms/step - loss: 4.0478 - mean_absolute_error: 1.3639\n",
      "Epoch 71/100\n",
      "303/303 [==============================] - 1s 2ms/step - loss: 4.1579 - mean_absolute_error: 1.4124\n",
      "Epoch 72/100\n",
      "303/303 [==============================] - 1s 2ms/step - loss: 3.8023 - mean_absolute_error: 1.3366\n",
      "Epoch 73/100\n",
      "303/303 [==============================] - 1s 2ms/step - loss: 3.8755 - mean_absolute_error: 1.3960\n",
      "Epoch 74/100\n",
      "303/303 [==============================] - 1s 2ms/step - loss: 3.9064 - mean_absolute_error: 1.4414\n",
      "Epoch 75/100\n",
      "303/303 [==============================] - 1s 2ms/step - loss: 3.8375 - mean_absolute_error: 1.4021\n",
      "Epoch 76/100\n",
      "303/303 [==============================] - 1s 2ms/step - loss: 4.0720 - mean_absolute_error: 1.4068\n",
      "Epoch 77/100\n",
      "303/303 [==============================] - 1s 2ms/step - loss: 3.9469 - mean_absolute_error: 1.3453\n",
      "Epoch 78/100\n",
      "303/303 [==============================] - 1s 2ms/step - loss: 3.5674 - mean_absolute_error: 1.3553\n",
      "Epoch 79/100\n",
      "303/303 [==============================] - 1s 2ms/step - loss: 3.4724 - mean_absolute_error: 1.3941\n",
      "Epoch 80/100\n",
      "303/303 [==============================] - 1s 2ms/step - loss: 3.7739 - mean_absolute_error: 1.3600\n",
      "Epoch 81/100\n",
      "303/303 [==============================] - 1s 2ms/step - loss: 3.6490 - mean_absolute_error: 1.3446\n",
      "Epoch 82/100\n",
      "303/303 [==============================] - 1s 2ms/step - loss: 3.6581 - mean_absolute_error: 1.3302\n",
      "Epoch 83/100\n",
      "303/303 [==============================] - 1s 2ms/step - loss: 3.7305 - mean_absolute_error: 1.3910\n",
      "Epoch 84/100\n",
      "303/303 [==============================] - 1s 2ms/step - loss: 3.5843 - mean_absolute_error: 1.3725\n",
      "Epoch 85/100\n",
      "303/303 [==============================] - 1s 2ms/step - loss: 3.6208 - mean_absolute_error: 1.3487\n",
      "Epoch 86/100\n",
      "303/303 [==============================] - 1s 2ms/step - loss: 3.4265 - mean_absolute_error: 1.3229\n",
      "Epoch 87/100\n",
      "303/303 [==============================] - 1s 2ms/step - loss: 3.4714 - mean_absolute_error: 1.2732\n",
      "Epoch 88/100\n",
      "303/303 [==============================] - 1s 2ms/step - loss: 3.2578 - mean_absolute_error: 1.2868\n",
      "Epoch 89/100\n"
     ]
    },
    {
     "name": "stdout",
     "output_type": "stream",
     "text": [
      "303/303 [==============================] - 1s 2ms/step - loss: 3.3314 - mean_absolute_error: 1.2486\n",
      "Epoch 90/100\n",
      "303/303 [==============================] - 1s 2ms/step - loss: 3.5140 - mean_absolute_error: 1.3241\n",
      "Epoch 91/100\n",
      "303/303 [==============================] - 1s 2ms/step - loss: 3.4826 - mean_absolute_error: 1.3254\n",
      "Epoch 92/100\n",
      "303/303 [==============================] - 1s 2ms/step - loss: 2.9654 - mean_absolute_error: 1.2477\n",
      "Epoch 93/100\n",
      "303/303 [==============================] - 1s 2ms/step - loss: 3.2678 - mean_absolute_error: 1.2862\n",
      "Epoch 94/100\n",
      "303/303 [==============================] - 1s 2ms/step - loss: 3.0997 - mean_absolute_error: 1.2981\n",
      "Epoch 95/100\n",
      "303/303 [==============================] - 1s 2ms/step - loss: 3.2426 - mean_absolute_error: 1.2732\n",
      "Epoch 96/100\n",
      "303/303 [==============================] - 1s 2ms/step - loss: 3.1174 - mean_absolute_error: 1.2731\n",
      "Epoch 97/100\n",
      "303/303 [==============================] - 1s 2ms/step - loss: 2.8877 - mean_absolute_error: 1.2272\n",
      "Epoch 98/100\n",
      "303/303 [==============================] - 1s 2ms/step - loss: 3.0453 - mean_absolute_error: 1.2614\n",
      "Epoch 99/100\n",
      "303/303 [==============================] - 1s 2ms/step - loss: 3.1965 - mean_absolute_error: 1.2878\n",
      "Epoch 100/100\n",
      "303/303 [==============================] - 1s 2ms/step - loss: 3.1768 - mean_absolute_error: 1.2941\n",
      "processing fold # 3\n",
      "Epoch 1/100\n",
      "303/303 [==============================] - 1s 3ms/step - loss: 237.7563 - mean_absolute_error: 11.7468\n",
      "Epoch 2/100\n",
      "303/303 [==============================] - 1s 2ms/step - loss: 32.0210 - mean_absolute_error: 3.8237\n",
      "Epoch 3/100\n",
      "303/303 [==============================] - 1s 2ms/step - loss: 19.1847 - mean_absolute_error: 2.9565\n",
      "Epoch 4/100\n",
      "303/303 [==============================] - 1s 2ms/step - loss: 18.4648 - mean_absolute_error: 2.7027\n",
      "Epoch 5/100\n",
      "303/303 [==============================] - 1s 2ms/step - loss: 16.4141 - mean_absolute_error: 2.4747\n",
      "Epoch 6/100\n",
      "303/303 [==============================] - 1s 2ms/step - loss: 15.0660 - mean_absolute_error: 2.3987\n",
      "Epoch 7/100\n",
      "303/303 [==============================] - 1s 2ms/step - loss: 13.7940 - mean_absolute_error: 2.4000\n",
      "Epoch 8/100\n",
      "303/303 [==============================] - 1s 2ms/step - loss: 13.1293 - mean_absolute_error: 2.2614\n",
      "Epoch 9/100\n",
      "303/303 [==============================] - 1s 2ms/step - loss: 12.9354 - mean_absolute_error: 2.2243\n",
      "Epoch 10/100\n",
      "303/303 [==============================] - 1s 2ms/step - loss: 12.1045 - mean_absolute_error: 2.2137\n",
      "Epoch 11/100\n",
      "303/303 [==============================] - 1s 2ms/step - loss: 12.1108 - mean_absolute_error: 2.1537\n",
      "Epoch 12/100\n",
      "303/303 [==============================] - 1s 2ms/step - loss: 11.5017 - mean_absolute_error: 2.1144\n",
      "Epoch 13/100\n",
      "303/303 [==============================] - 1s 2ms/step - loss: 11.0550 - mean_absolute_error: 2.0704\n",
      "Epoch 14/100\n",
      "303/303 [==============================] - 1s 2ms/step - loss: 11.0604 - mean_absolute_error: 2.1056\n",
      "Epoch 15/100\n",
      "303/303 [==============================] - 1s 2ms/step - loss: 10.0672 - mean_absolute_error: 1.9701\n",
      "Epoch 16/100\n",
      "303/303 [==============================] - 1s 2ms/step - loss: 10.1024 - mean_absolute_error: 2.0313\n",
      "Epoch 17/100\n",
      "303/303 [==============================] - 1s 2ms/step - loss: 10.0600 - mean_absolute_error: 1.9914\n",
      "Epoch 18/100\n",
      "303/303 [==============================] - 1s 2ms/step - loss: 9.8537 - mean_absolute_error: 2.0295\n",
      "Epoch 19/100\n",
      "303/303 [==============================] - 1s 2ms/step - loss: 9.1352 - mean_absolute_error: 1.9379\n",
      "Epoch 20/100\n",
      "303/303 [==============================] - 1s 2ms/step - loss: 9.7724 - mean_absolute_error: 1.9467\n",
      "Epoch 21/100\n",
      "303/303 [==============================] - 1s 2ms/step - loss: 8.8853 - mean_absolute_error: 1.9056\n",
      "Epoch 22/100\n",
      "303/303 [==============================] - 1s 2ms/step - loss: 9.0622 - mean_absolute_error: 1.9371\n",
      "Epoch 23/100\n",
      "303/303 [==============================] - 1s 2ms/step - loss: 8.6037 - mean_absolute_error: 1.9312\n",
      "Epoch 24/100\n",
      "303/303 [==============================] - 1s 2ms/step - loss: 8.7488 - mean_absolute_error: 1.8740\n",
      "Epoch 25/100\n",
      "303/303 [==============================] - 1s 2ms/step - loss: 8.6966 - mean_absolute_error: 1.8535\n",
      "Epoch 26/100\n",
      "303/303 [==============================] - 1s 2ms/step - loss: 8.6550 - mean_absolute_error: 1.8683\n",
      "Epoch 27/100\n",
      "303/303 [==============================] - 1s 2ms/step - loss: 8.5250 - mean_absolute_error: 1.8282\n",
      "Epoch 28/100\n",
      "303/303 [==============================] - 1s 2ms/step - loss: 7.8386 - mean_absolute_error: 1.8887\n",
      "Epoch 29/100\n",
      "303/303 [==============================] - 1s 2ms/step - loss: 8.0909 - mean_absolute_error: 1.7868\n",
      "Epoch 30/100\n",
      "303/303 [==============================] - 1s 2ms/step - loss: 8.0349 - mean_absolute_error: 1.8203\n",
      "Epoch 31/100\n",
      "303/303 [==============================] - 1s 2ms/step - loss: 7.9897 - mean_absolute_error: 1.8505\n",
      "Epoch 32/100\n",
      "303/303 [==============================] - 1s 2ms/step - loss: 7.8884 - mean_absolute_error: 1.8189\n",
      "Epoch 33/100\n",
      "303/303 [==============================] - 1s 2ms/step - loss: 8.0798 - mean_absolute_error: 1.7753\n",
      "Epoch 34/100\n",
      "303/303 [==============================] - 1s 2ms/step - loss: 7.6108 - mean_absolute_error: 1.8592\n",
      "Epoch 35/100\n",
      "303/303 [==============================] - 1s 2ms/step - loss: 7.5615 - mean_absolute_error: 1.7695\n",
      "Epoch 36/100\n",
      "303/303 [==============================] - 1s 2ms/step - loss: 7.4188 - mean_absolute_error: 1.7740\n",
      "Epoch 37/100\n",
      "303/303 [==============================] - 1s 2ms/step - loss: 7.3123 - mean_absolute_error: 1.7624\n",
      "Epoch 38/100\n",
      "303/303 [==============================] - 1s 2ms/step - loss: 7.2649 - mean_absolute_error: 1.7426\n",
      "Epoch 39/100\n",
      "303/303 [==============================] - 1s 2ms/step - loss: 7.3304 - mean_absolute_error: 1.7550\n",
      "Epoch 40/100\n",
      "303/303 [==============================] - 1s 2ms/step - loss: 7.1225 - mean_absolute_error: 1.7551\n",
      "Epoch 41/100\n",
      "303/303 [==============================] - 1s 2ms/step - loss: 6.8925 - mean_absolute_error: 1.7615\n",
      "Epoch 42/100\n",
      "303/303 [==============================] - 1s 2ms/step - loss: 7.0007 - mean_absolute_error: 1.7769\n",
      "Epoch 43/100\n",
      "303/303 [==============================] - 1s 2ms/step - loss: 7.2055 - mean_absolute_error: 1.7217\n",
      "Epoch 44/100\n",
      "303/303 [==============================] - 1s 2ms/step - loss: 7.0624 - mean_absolute_error: 1.7214\n",
      "Epoch 45/100\n",
      "303/303 [==============================] - 1s 2ms/step - loss: 7.0132 - mean_absolute_error: 1.6637\n",
      "Epoch 46/100\n",
      "303/303 [==============================] - 1s 2ms/step - loss: 6.6631 - mean_absolute_error: 1.7175\n",
      "Epoch 47/100\n",
      "303/303 [==============================] - 1s 2ms/step - loss: 6.8541 - mean_absolute_error: 1.6504\n",
      "Epoch 48/100\n",
      "303/303 [==============================] - 1s 2ms/step - loss: 6.6917 - mean_absolute_error: 1.6188\n",
      "Epoch 49/100\n",
      "303/303 [==============================] - 1s 2ms/step - loss: 6.6848 - mean_absolute_error: 1.6631\n",
      "Epoch 50/100\n",
      "303/303 [==============================] - 1s 2ms/step - loss: 6.5596 - mean_absolute_error: 1.6233\n",
      "Epoch 51/100\n",
      "303/303 [==============================] - 1s 2ms/step - loss: 6.5483 - mean_absolute_error: 1.6447\n",
      "Epoch 52/100\n",
      "303/303 [==============================] - 1s 2ms/step - loss: 6.5607 - mean_absolute_error: 1.6125\n",
      "Epoch 53/100\n",
      "303/303 [==============================] - 1s 2ms/step - loss: 5.8488 - mean_absolute_error: 1.5982\n",
      "Epoch 54/100\n",
      "303/303 [==============================] - 1s 2ms/step - loss: 6.6680 - mean_absolute_error: 1.6524\n",
      "Epoch 55/100\n",
      "303/303 [==============================] - 1s 2ms/step - loss: 6.3434 - mean_absolute_error: 1.6117\n",
      "Epoch 56/100\n",
      "303/303 [==============================] - 1s 2ms/step - loss: 6.3354 - mean_absolute_error: 1.5739\n",
      "Epoch 57/100\n",
      "303/303 [==============================] - 1s 2ms/step - loss: 6.0802 - mean_absolute_error: 1.5829\n",
      "Epoch 58/100\n",
      "303/303 [==============================] - 1s 2ms/step - loss: 6.5567 - mean_absolute_error: 1.5973\n",
      "Epoch 59/100\n",
      "303/303 [==============================] - 1s 2ms/step - loss: 6.1664 - mean_absolute_error: 1.5713\n",
      "Epoch 60/100\n",
      "303/303 [==============================] - 1s 2ms/step - loss: 6.2923 - mean_absolute_error: 1.5820\n",
      "Epoch 61/100\n"
     ]
    },
    {
     "name": "stdout",
     "output_type": "stream",
     "text": [
      "303/303 [==============================] - 1s 2ms/step - loss: 6.2394 - mean_absolute_error: 1.5789\n",
      "Epoch 62/100\n",
      "303/303 [==============================] - 1s 2ms/step - loss: 5.9012 - mean_absolute_error: 1.5205\n",
      "Epoch 63/100\n",
      "303/303 [==============================] - 1s 2ms/step - loss: 5.9626 - mean_absolute_error: 1.5642\n",
      "Epoch 64/100\n",
      "303/303 [==============================] - 1s 2ms/step - loss: 5.5560 - mean_absolute_error: 1.4939\n",
      "Epoch 65/100\n",
      "303/303 [==============================] - 1s 2ms/step - loss: 5.6886 - mean_absolute_error: 1.4847\n",
      "Epoch 66/100\n",
      "303/303 [==============================] - 1s 2ms/step - loss: 5.8549 - mean_absolute_error: 1.5179\n",
      "Epoch 67/100\n",
      "303/303 [==============================] - 1s 2ms/step - loss: 5.1578 - mean_absolute_error: 1.4545\n",
      "Epoch 68/100\n",
      "303/303 [==============================] - 1s 2ms/step - loss: 5.8050 - mean_absolute_error: 1.5238\n",
      "Epoch 69/100\n",
      "303/303 [==============================] - 1s 2ms/step - loss: 5.6753 - mean_absolute_error: 1.4940\n",
      "Epoch 70/100\n",
      "303/303 [==============================] - 1s 2ms/step - loss: 5.3156 - mean_absolute_error: 1.5285\n",
      "Epoch 71/100\n",
      "303/303 [==============================] - 1s 2ms/step - loss: 5.4447 - mean_absolute_error: 1.4768\n",
      "Epoch 72/100\n",
      "303/303 [==============================] - 1s 2ms/step - loss: 5.3244 - mean_absolute_error: 1.4779\n",
      "Epoch 73/100\n",
      "303/303 [==============================] - 1s 2ms/step - loss: 5.6032 - mean_absolute_error: 1.5181\n",
      "Epoch 74/100\n",
      "303/303 [==============================] - 1s 2ms/step - loss: 5.5515 - mean_absolute_error: 1.4433\n",
      "Epoch 75/100\n",
      "303/303 [==============================] - 1s 2ms/step - loss: 5.3806 - mean_absolute_error: 1.4740\n",
      "Epoch 76/100\n",
      "303/303 [==============================] - 1s 2ms/step - loss: 5.0743 - mean_absolute_error: 1.4128\n",
      "Epoch 77/100\n",
      "303/303 [==============================] - 1s 2ms/step - loss: 4.7867 - mean_absolute_error: 1.3746\n",
      "Epoch 78/100\n",
      "303/303 [==============================] - 1s 2ms/step - loss: 5.3376 - mean_absolute_error: 1.4577\n",
      "Epoch 79/100\n",
      "303/303 [==============================] - 1s 2ms/step - loss: 5.1733 - mean_absolute_error: 1.5077\n",
      "Epoch 80/100\n",
      "303/303 [==============================] - 1s 2ms/step - loss: 4.9645 - mean_absolute_error: 1.4167\n",
      "Epoch 81/100\n",
      "303/303 [==============================] - 1s 2ms/step - loss: 5.1313 - mean_absolute_error: 1.4461\n",
      "Epoch 82/100\n",
      "303/303 [==============================] - 1s 2ms/step - loss: 5.0144 - mean_absolute_error: 1.4627\n",
      "Epoch 83/100\n",
      "303/303 [==============================] - 1s 2ms/step - loss: 4.9847 - mean_absolute_error: 1.4035\n",
      "Epoch 84/100\n",
      "303/303 [==============================] - 1s 2ms/step - loss: 5.4008 - mean_absolute_error: 1.4370\n",
      "Epoch 85/100\n",
      "303/303 [==============================] - 1s 2ms/step - loss: 5.1240 - mean_absolute_error: 1.3740\n",
      "Epoch 86/100\n",
      "303/303 [==============================] - 1s 2ms/step - loss: 4.7737 - mean_absolute_error: 1.3697\n",
      "Epoch 87/100\n",
      "303/303 [==============================] - 1s 2ms/step - loss: 4.7346 - mean_absolute_error: 1.4304\n",
      "Epoch 88/100\n",
      "303/303 [==============================] - 1s 2ms/step - loss: 5.0905 - mean_absolute_error: 1.3904\n",
      "Epoch 89/100\n",
      "303/303 [==============================] - 1s 2ms/step - loss: 4.6015 - mean_absolute_error: 1.3521\n",
      "Epoch 90/100\n",
      "303/303 [==============================] - 1s 2ms/step - loss: 4.7527 - mean_absolute_error: 1.4177\n",
      "Epoch 91/100\n",
      "303/303 [==============================] - 1s 2ms/step - loss: 4.8054 - mean_absolute_error: 1.4093\n",
      "Epoch 92/100\n",
      "303/303 [==============================] - 1s 2ms/step - loss: 4.5949 - mean_absolute_error: 1.4039\n",
      "Epoch 93/100\n",
      "303/303 [==============================] - 1s 2ms/step - loss: 4.9079 - mean_absolute_error: 1.4118\n",
      "Epoch 94/100\n",
      "303/303 [==============================] - 1s 2ms/step - loss: 4.1495 - mean_absolute_error: 1.3992\n",
      "Epoch 95/100\n",
      "303/303 [==============================] - 1s 2ms/step - loss: 4.3308 - mean_absolute_error: 1.3798\n",
      "Epoch 96/100\n",
      "303/303 [==============================] - 1s 2ms/step - loss: 4.4552 - mean_absolute_error: 1.3691\n",
      "Epoch 97/100\n",
      "303/303 [==============================] - 1s 2ms/step - loss: 4.6476 - mean_absolute_error: 1.3413\n",
      "Epoch 98/100\n",
      "303/303 [==============================] - 1s 2ms/step - loss: 4.5420 - mean_absolute_error: 1.3337\n",
      "Epoch 99/100\n",
      "303/303 [==============================] - 1s 2ms/step - loss: 4.2233 - mean_absolute_error: 1.3359\n",
      "Epoch 100/100\n",
      "303/303 [==============================] - 1s 2ms/step - loss: 4.1731 - mean_absolute_error: 1.3243\n"
     ]
    }
   ],
   "source": [
    "import numpy as np\n",
    "k=4\n",
    "num_val_samples = len(train_data) // k \n",
    "num_epochs = 100\n",
    "all_scores = []\n",
    "\n",
    "for i in range(k):\n",
    "    print('processing fold #', i)\n",
    "    val_data = train_data[i * num_val_samples: (i + 1) * num_val_samples]\n",
    "    val_targets = train_targets[i * num_val_samples: (i + 1) * num_val_samples]\n",
    "    \n",
    "    partial_train_data = np.concatenate( [train_data[:i * num_val_samples], \n",
    "                                          train_data[(i + 1) * num_val_samples:]], axis=0)\n",
    "    \n",
    "    partial_train_targets = np.concatenate( [train_targets[:i * num_val_samples],\n",
    "    train_targets[(i + 1) * num_val_samples:]], axis=0)\n",
    "    model = build_model()\n",
    "    \n",
    "    model.fit(partial_train_data, partial_train_targets, epochs=num_epochs, batch_size=1, verbose=1)\n",
    "    \n",
    "    val_mse, val_mae = model.evaluate(val_data, val_targets, verbose=0)\n",
    "    all_scores.append(val_mae)\n",
    "    \n",
    "    "
   ]
  },
  {
   "cell_type": "code",
   "execution_count": 15,
   "metadata": {},
   "outputs": [
    {
     "data": {
      "text/plain": [
       "[2.014878151440384, 2.2362072396986554, 2.9609520222881054, 2.306910768593892]"
      ]
     },
     "execution_count": 15,
     "metadata": {},
     "output_type": "execute_result"
    }
   ],
   "source": [
    "all_scores"
   ]
  },
  {
   "cell_type": "code",
   "execution_count": 16,
   "metadata": {},
   "outputs": [
    {
     "data": {
      "text/plain": [
       "2.379737045505259"
      ]
     },
     "execution_count": 16,
     "metadata": {},
     "output_type": "execute_result"
    }
   ],
   "source": [
    "np.mean(all_scores)"
   ]
  },
  {
   "cell_type": "markdown",
   "metadata": {},
   "source": [
    "### Saving the validation logs at each fold"
   ]
  },
  {
   "cell_type": "code",
   "execution_count": 17,
   "metadata": {},
   "outputs": [
    {
     "name": "stdout",
     "output_type": "stream",
     "text": [
      "processing fold # 0\n",
      "processing fold # 1\n",
      "processing fold # 2\n",
      "processing fold # 3\n"
     ]
    }
   ],
   "source": [
    "num_epochs = 500 \n",
    "all_mae_histories = []\n",
    "\n",
    "for i in range(k):\n",
    "    print('processing fold #', i)\n",
    "    val_data = train_data[i * num_val_samples: (i + 1) * num_val_samples]\n",
    "    val_targets = train_targets[i * num_val_samples: (i + 1) * num_val_samples]\n",
    "    \n",
    "    partial_train_data = np.concatenate([train_data[:i * num_val_samples], \n",
    "                                         train_data[(i + 1) * num_val_samples:]], axis=0)\n",
    "    \n",
    "    partial_train_targets = np.concatenate( [train_targets[:i * num_val_samples], \n",
    "                                             train_targets[(i + 1) * num_val_samples:]], axis=0)\n",
    "    \n",
    "    model = build_model()\n",
    "    history = model.fit(partial_train_data, partial_train_targets, \n",
    "                        validation_data=(val_data, val_targets),\n",
    "                        epochs=num_epochs, batch_size=1, verbose=0)\n",
    "    mae_history = history.history['val_mean_absolute_error']\n",
    "    all_mae_histories.append(mae_history)\n",
    "    \n"
   ]
  },
  {
   "cell_type": "markdown",
   "metadata": {},
   "source": [
    "### Building the history of successive mean K-fold validation scores"
   ]
  },
  {
   "cell_type": "code",
   "execution_count": 18,
   "metadata": {},
   "outputs": [],
   "source": [
    "average_mae_history = [np.mean([x[i] for x in all_mae_histories]) for i in range(num_epochs)]"
   ]
  },
  {
   "cell_type": "markdown",
   "metadata": {},
   "source": [
    "### Plotting validation scores"
   ]
  },
  {
   "cell_type": "code",
   "execution_count": 19,
   "metadata": {},
   "outputs": [
    {
     "data": {
      "text/plain": [
       "<Figure size 640x480 with 1 Axes>"
      ]
     },
     "metadata": {},
     "output_type": "display_data"
    }
   ],
   "source": [
    "import matplotlib.pyplot as plt\n",
    "plt.plot(range(1, len(average_mae_history) + 1), average_mae_history)\n",
    "plt.xlabel('Epochs')\n",
    "plt.ylabel('Validation MAE')\n",
    "plt.show()"
   ]
  },
  {
   "cell_type": "markdown",
   "metadata": {},
   "source": [
    "### Plotting validation scores, excluding the first 10 data points"
   ]
  },
  {
   "cell_type": "code",
   "execution_count": 20,
   "metadata": {},
   "outputs": [
    {
     "data": {
      "image/png": "[encoded data removed]",
      "text/plain": [
       "<Figure size 432x288 with 1 Axes>"
      ]
     },
     "metadata": {},
     "output_type": "display_data"
    }
   ],
   "source": [
    "def smooth_curve(points, factor=0.9):\n",
    "  smoothed_points = []\n",
    "  for point in points:\n",
    "    if smoothed_points:\n",
    "      previous = smoothed_points[-1]\n",
    "      smoothed_points.append(previous * factor + point * (1 - factor))\n",
    "    else:\n",
    "      smoothed_points.append(point)\n",
    "  return smoothed_points\n",
    "smooth_mae_history = smooth_curve(average_mae_history[10:])\n",
    "plt.plot(range(1, len(smooth_mae_history) + 1), smooth_mae_history)\n",
    "plt.xlabel('Epochs')\n",
    "plt.ylabel('Validation MAE')\n",
    "plt.show()"
   ]
  },
  {
   "cell_type": "markdown",
   "metadata": {},
   "source": [
    "### Training the final model"
   ]
  },
  {
   "cell_type": "code",
   "execution_count": 21,
   "metadata": {},
   "outputs": [
    {
     "name": "stdout",
     "output_type": "stream",
     "text": [
      "102/102 [==============================] - 0s 927us/step\n"
     ]
    }
   ],
   "source": [
    "model = build_model()\n",
    "model.fit(train_data, train_targets, epochs=80, batch_size=16, verbose=0)\n",
    "test_mse_score, test_mae_score = model.evaluate(test_data, test_targets)"
   ]
  },
  {
   "cell_type": "code",
   "execution_count": 22,
   "metadata": {},
   "outputs": [
    {
     "data": {
      "text/plain": [
       "2.667612216051887"
      ]
     },
     "execution_count": 22,
     "metadata": {},
     "output_type": "execute_result"
    }
   ],
   "source": [
    "test_mae_score"
   ]
  }
 ],
 "metadata": {
  "kernelspec": {
   "display_name": "Python 3",
   "language": "python",
   "name": "python3"
  },
  "language_info": {
   "codemirror_mode": {
    "name": "ipython",
    "version": 3
   },
   "file_extension": ".py",
   "mimetype": "text/x-python",
   "name": "python",
   "nbconvert_exporter": "python",
   "pygments_lexer": "ipython3",
   "version": "3.6.5"
  }
 },
 "nbformat": 4,
 "nbformat_minor": 2
}
